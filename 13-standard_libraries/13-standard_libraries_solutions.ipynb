{
 "cells": [
  {
   "cell_type": "markdown",
   "metadata": {},
   "source": [
    "# Exercises 13: Standard Libraries\n",
    "In this series of exercises we look at some standard libraries, namely `math`, `sys`, `os` and `subprocess`."
   ]
  },
  {
   "cell_type": "markdown",
   "metadata": {},
   "source": [
    "## Exercise 13.1\n",
    "Import the `math` module and use it to create a list containing the `sin` of every element of `data`"
   ]
  },
  {
   "cell_type": "code",
   "execution_count": null,
   "metadata": {},
   "outputs": [],
   "source": [
    "data = [0., 3.14 / 4, 3.14 / 2, 3.14 ]"
   ]
  },
  {
   "cell_type": "code",
   "execution_count": null,
   "metadata": {},
   "outputs": [],
   "source": [
    "import math\n",
    "transformed = [math.sin(el) for el in data]\n",
    "print(transformed)"
   ]
  },
  {
   "cell_type": "markdown",
   "metadata": {},
   "source": [
    "## Exercise 13.2\n",
    "* Import the `os` module \n",
    "* use it to list all elements in the current directory `\"./\"`\n",
    "* create a list containing only the files, not the directories\n",
    "* create a list containing only the directories"
   ]
  },
  {
   "cell_type": "code",
   "execution_count": null,
   "metadata": {},
   "outputs": [],
   "source": [
    "import os\n",
    "dirs_and_files = os.listdir()\n",
    "print(dirs_and_files)\n",
    "file_list = [el for el in dirs_and_files if os.path.isfile(el)]\n",
    "dir_list = [el for el in dirs_and_files if os.path.isdir(el)]\n",
    "print(\"directories\", dir_list)\n",
    "print(\"files\", file_list)\n"
   ]
  },
  {
   "cell_type": "markdown",
   "metadata": {},
   "source": [
    "## Exercise 13.3: Python debugger\n",
    "### Exercise 13.3.1:\n",
    "Use the python debugger to find out what is going wrong in this functions. Run it a first time, to find out where it fails, then add a `import pdb; pdb.set_trace()` just before that line. Rerun the code and find out what is going wrong in the debugger mode.\n",
    "\n",
    "*HINT: type `h` in the pdb to get help on available commands.*"
   ]
  },
  {
   "cell_type": "code",
   "execution_count": null,
   "metadata": {},
   "outputs": [],
   "source": [
    "def get_average(row):\n",
    "    return sum(row)/len(row)\n",
    "\n",
    "def transform_data(data):\n",
    "    transformed_data = []\n",
    "    for row in data:\n",
    "        average = get_average(row)\n",
    "        import pdb; pdb.set_trace()\n",
    "        transformed_data.append([el - average for el in row])\n",
    "    return transformed_data        \n",
    "\n",
    "data = [[1, 2, 1], [3.2, 1.4, 6]]\n",
    "print(transform_data(data))"
   ]
  },
  {
   "cell_type": "markdown",
   "metadata": {},
   "source": [
    "The function `get_average` is missing a return statement. Therefore `average` is `None` in `transform_data`, leading to an error in the list comprehension. So the corrected version should be:"
   ]
  },
  {
   "cell_type": "code",
   "execution_count": null,
   "metadata": {},
   "outputs": [],
   "source": [
    "def get_average(row):\n",
    "   return sum(row)/len(row)\n",
    "\n",
    "def transform_data(data):\n",
    "    transformed_data = []\n",
    "    for row in data:\n",
    "        average = get_average(row)\n",
    "        transformed_data.append([el - average for el in row])\n",
    "    return transformed_data        \n",
    "\n",
    "data = [[1, 2, 1], [3.2, 1.4, 6]]\n",
    "print(transform_data(data))"
   ]
  },
  {
   "cell_type": "markdown",
   "metadata": {},
   "source": [
    "### Exercise 13.3.2 (Supplementary):\n",
    "Use the python debugger to find out what is going wrong in this function. Run it a first time, to find out where it fails, then add a `import pdb; pdb.set_trace()` just before that line. Rerun the code and find out what is going wrong in the debugger mode.\n",
    "\n",
    "*HINT: The error happens at the second iteration in the loop, you will have to step forward to get there...*"
   ]
  },
  {
   "cell_type": "code",
   "execution_count": null,
   "metadata": {},
   "outputs": [],
   "source": [
    "def transform_data(data):\n",
    "    transformed_data = []\n",
    "    for row in data:\n",
    "        transformed_data.append([])\n",
    "        import pdb; pdb.set_trace()\n",
    "        for el in row:\n",
    "            transformed_data = transformed_data[-1].append(el*el)\n",
    "    return transformed_data        \n",
    "\n",
    "data = [[1, 2, 1], [3.2, 1.4, 6]]\n",
    "print(transform_data(data))"
   ]
  },
  {
   "cell_type": "markdown",
   "metadata": {},
   "source": [
    "The error is that `append` does not return anything, hence when we write `transformed_data = transformed_data[-1].append(el*el)` we assigne `None` to `transformed_data`, so that in the next iteration, `transformed_data[-1]` fails. So corrected function would be:"
   ]
  },
  {
   "cell_type": "code",
   "execution_count": null,
   "metadata": {},
   "outputs": [],
   "source": [
    "def transform_data(data):\n",
    "    transformed_data = []\n",
    "    for row in data:\n",
    "        transformed_data.append([])\n",
    "        for el in row:\n",
    "            transformed_data[-1].append(el*el)\n",
    "    return transformed_data        \n",
    "\n",
    "data = [[1, 2, 1], [3.2, 1.4, 6]]\n",
    "print(transform_data(data))"
   ]
  },
  {
   "cell_type": "code",
   "execution_count": null,
   "metadata": {},
   "outputs": [],
   "source": []
  }
 ],
 "metadata": {
  "kernelspec": {
   "display_name": "Python 3 (ipykernel)",
   "language": "python",
   "name": "python3"
  },
  "language_info": {
   "codemirror_mode": {
    "name": "ipython",
    "version": 3
   },
   "file_extension": ".py",
   "mimetype": "text/x-python",
   "name": "python",
   "nbconvert_exporter": "python",
   "pygments_lexer": "ipython3",
   "version": "3.12.3"
  }
 },
 "nbformat": 4,
 "nbformat_minor": 4
}
