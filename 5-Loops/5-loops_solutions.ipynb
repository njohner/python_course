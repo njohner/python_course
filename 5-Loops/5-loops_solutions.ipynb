{
 "cells": [
  {
   "cell_type": "markdown",
   "metadata": {},
   "source": [
    "# Exercise 5: Loops\n",
    "\n",
    "In these exercises we look at `for` and `while` loops. Always try to make your code readable and print out your results in the nicest way possible.\n",
    "## Ex. 5.1: `for` loops"
   ]
  },
  {
   "cell_type": "markdown",
   "metadata": {},
   "source": [
    "### Ex. 5.1.1\n",
    "Iterate over the integer numbers from 5 to 10 and calculate their sum."
   ]
  },
  {
   "cell_type": "code",
   "execution_count": null,
   "metadata": {},
   "outputs": [],
   "source": [
    "tot = 0\n",
    "for i in range(5, 11):\n",
    "    tot += i\n",
    "    print(i, tot)\n",
    "print(\"total =\", tot)"
   ]
  },
  {
   "cell_type": "markdown",
   "metadata": {},
   "source": [
    "### Ex. 5.1.2\n",
    "Write a loop to iterate over all the elements of `mixed` and print out every element that is a string."
   ]
  },
  {
   "cell_type": "code",
   "execution_count": null,
   "metadata": {},
   "outputs": [],
   "source": [
    "mixed = [1, \"Hello\", 3, \"World!\"]\n",
    "for el in mixed:\n",
    "    if type(el) == str:\n",
    "        print(el)"
   ]
  },
  {
   "cell_type": "code",
   "execution_count": null,
   "metadata": {},
   "outputs": [],
   "source": [
    "mixed = [1, \"Hello\", 3, \"World!\"]\n",
    "for el in mixed:\n",
    "    if isinstance(el, str):\n",
    "        print(el)"
   ]
  },
  {
   "cell_type": "markdown",
   "metadata": {},
   "source": [
    "### Ex. 5.1.3\n",
    "Using a for loop print out the name and age of every person in the lists below. Each person should have his name together with his age on one line. \n",
    "\n",
    "**Supplementary**\n",
    "There are at least 3 different ways of doing this, can you find them all?"
   ]
  },
  {
   "cell_type": "code",
   "execution_count": null,
   "metadata": {},
   "outputs": [],
   "source": [
    "names = [\"Peter\", \"Jane\", \"Fred\"]\n",
    "ages = [31, 35, 4]\n",
    "for name, age in zip(names, ages):\n",
    "    print(name, \"is\", age)"
   ]
  },
  {
   "cell_type": "code",
   "execution_count": null,
   "metadata": {},
   "outputs": [],
   "source": [
    "for i, name in enumerate(names):\n",
    "    print(name, \"is\", ages[i])"
   ]
  },
  {
   "cell_type": "code",
   "execution_count": null,
   "metadata": {},
   "outputs": [],
   "source": [
    "for i in range(len(names)):\n",
    "    print(names[i], \"is\", ages[i])"
   ]
  },
  {
   "cell_type": "markdown",
   "metadata": {},
   "source": [
    "### Ex. 5.1.4\n",
    "Below we assume that we have a list of values `real_values` for which we made a prediction using some estimator (`estimates`). We now want to estimate the accuracy of our prediction using the Mean Squared Error (MSE).\n",
    "Using a for-loop calculate the MSE of the estimate below. The MSE is defined as $MSE = \\frac{1}{n}\\sum_{i=1}^{n}(x_i-y_i)^2$, where X is the vector of real values and Y the vector of estimates."
   ]
  },
  {
   "cell_type": "code",
   "execution_count": null,
   "metadata": {},
   "outputs": [],
   "source": [
    "real_values = [1.2, 2.3, 2.6, 0.8]\n",
    "estimates = [1.0, 1.8, 2.2, 1.2]"
   ]
  },
  {
   "cell_type": "code",
   "execution_count": null,
   "metadata": {},
   "outputs": [],
   "source": [
    "mse = 0\n",
    "for value, estimate in zip(real_values, estimates):\n",
    "    mse += (value - estimate) ** 2\n",
    "mse /= len(real_values)\n",
    "print(\"mean squared error is\", mse)"
   ]
  },
  {
   "cell_type": "markdown",
   "metadata": {},
   "source": [
    "## Ex. 5.2: `while` loops"
   ]
  },
  {
   "cell_type": "markdown",
   "metadata": {},
   "source": [
    "### Ex. 5.2.1\n",
    "Iterate through `data` to get the sum of the first 5 elements that are not `None`. Every time an element is `None`, skip to the next one. As soon as you have summed up 5 elements, print the sum and then exit the loop."
   ]
  },
  {
   "cell_type": "code",
   "execution_count": null,
   "metadata": {},
   "outputs": [],
   "source": [
    "data = [1, 5, None, 4, None, 3, 4, 1, 8]\n",
    "total = 0\n",
    "current_index = 0\n",
    "num_summed = 0\n",
    "while True:\n",
    "    # check for exit conditions.\n",
    "    if current_index == len(data):\n",
    "        break\n",
    "    if data[current_index] is None:\n",
    "        # if data[current_index] is None we increment the counter and skip to the next iteration\n",
    "        current_index += 1\n",
    "        continue\n",
    "    \n",
    "    # Sum up the current element\n",
    "    total += data[current_index]\n",
    "    \n",
    "    # increment the counter for current element and total number of summed elements\n",
    "    current_index += 1\n",
    "    num_summed += 1\n",
    "    \n",
    "    # check for exit conditions.\n",
    "    if num_summed == 5:\n",
    "        print(total)\n",
    "        break \n"
   ]
  },
  {
   "cell_type": "code",
   "execution_count": null,
   "metadata": {},
   "outputs": [],
   "source": [
    "total = 0\n",
    "current_index = 0\n",
    "num_summed = 0\n",
    "while num_summed < 5 and current_index < len(data):\n",
    "    if data[current_index] is None:\n",
    "        # if data[current_index] is None we increment the counter and skip to the next iteration\n",
    "        current_index += 1\n",
    "        continue\n",
    "    \n",
    "    # Sum up the current element\n",
    "    total += data[current_index]\n",
    "    \n",
    "    # increment the counter for current element and total number of summed elements\n",
    "    current_index += 1\n",
    "    num_summed += 1\n",
    "\n",
    "if num_summed == 5:\n",
    "    print(total) "
   ]
  },
  {
   "cell_type": "markdown",
   "metadata": {},
   "source": [
    "# Supplementary Exercises"
   ]
  },
  {
   "cell_type": "markdown",
   "metadata": {
    "tags": []
   },
   "source": [
    "## Ex. 5.3\n",
    "Print the first `n` elements of the Fibonacci sequence. This sequence is defined by the relation $F_i = F_{i-1} + F_{i-2}$, or in other words, every element of the sequence is the sum of the previous two. The first two elements of the sequence are `0` and `1`. I've initialised `prev`, the previous element and `current`, the current element for you."
   ]
  },
  {
   "cell_type": "code",
   "execution_count": null,
   "metadata": {
    "tags": []
   },
   "outputs": [],
   "source": [
    "n = 20\n",
    "prev = 0\n",
    "current = 1\n",
    "for i in range(n):\n",
    "    # calculate the next element of the sequence\n",
    "    next_element = current + prev\n",
    "    print(next_element)\n",
    "    \n",
    "    # prepare the next iteration by setting previous and current\n",
    "    # to the values they will have in the next iteration\n",
    "    prev = current\n",
    "    current = next_element "
   ]
  },
  {
   "cell_type": "markdown",
   "metadata": {},
   "source": [
    "## Ex. 5.4\n",
    "\n",
    "Write a loop that replicates the behavior of `enumerate`, i.e. to iterate over both, the elements of a list and its indices."
   ]
  },
  {
   "cell_type": "code",
   "execution_count": null,
   "metadata": {},
   "outputs": [],
   "source": [
    "test_list = [1, 2, 3]\n",
    "for i, el in zip(range(len(test_list)), test_list):\n",
    "    print(i, el)"
   ]
  },
  {
   "cell_type": "markdown",
   "metadata": {},
   "source": [
    "## Ex 5.5\n",
    "### 5.5.1\n",
    "Write some code to test whether a number `num` is prime. To test whether `num` is prime, simply test whether it is divisible by any number between 2 and `num-1` (actually between 2 and `num**0.5` rounded up is enough), and as soon as you find a factor of `num`, print a message saying that `num` is divisible by that factor and stop the iteration, if you don't find any factor, print that `num` is prime."
   ]
  },
  {
   "cell_type": "code",
   "execution_count": null,
   "metadata": {},
   "outputs": [],
   "source": [
    "num = 119\n",
    "prime = True\n",
    "for i in range(2, int(num ** 0.5) + 1):\n",
    "    if num % i == 0:\n",
    "        print(num, \"is divisible by\", i)\n",
    "        prime = False\n",
    "        break\n",
    "if prime:\n",
    "    print(num, \"is prime\")"
   ]
  },
  {
   "cell_type": "markdown",
   "metadata": {},
   "source": [
    "### 5.6.2\n",
    "We can introduce a less well known syntax here, which is the `else` statement of a `for` loop. This gets executed only if the loop ended normally, i.e. did not encounter a break statement. Repeat Ex. 5.4.1 but using this `else` clause."
   ]
  },
  {
   "cell_type": "code",
   "execution_count": null,
   "metadata": {},
   "outputs": [],
   "source": [
    "for i in range(2, int(num ** 0.5) + 1):\n",
    "    if num % i == 0:\n",
    "        print(num, \"is divisible by\", i)\n",
    "        break\n",
    "else:\n",
    "    print(num, \"is prime\")"
   ]
  },
  {
   "cell_type": "markdown",
   "metadata": {},
   "source": [
    "## Ex 5.7\n",
    "Now write a code that prints out every prime number between 2 and *n*."
   ]
  },
  {
   "cell_type": "code",
   "execution_count": null,
   "metadata": {},
   "outputs": [],
   "source": [
    "n = 19\n",
    "for num in range(3, n, 2):\n",
    "    for i in range(2, int(num ** 0.5) + 1):\n",
    "        if num % i == 0:\n",
    "            break\n",
    "    else:\n",
    "        print(num, \"is prime\")"
   ]
  },
  {
   "cell_type": "markdown",
   "metadata": {},
   "source": [
    "## Ex. 5.8\n",
    "* Define a list `data` containing 100 random numbers drawn from a gaussian distribution with mean 2 and standard deviation 3. *Hint: I've already imported the `random` module, you can now use `random.gauss` to draw a random number from a Gaussian distribution*\n",
    "* Calculate the average and standard deviation of the array `data`"
   ]
  },
  {
   "cell_type": "code",
   "execution_count": null,
   "metadata": {},
   "outputs": [],
   "source": [
    "import random\n",
    "\n",
    "# Prepare the list of random numbers\n",
    "data = []\n",
    "mu = 2\n",
    "sigma = 3\n",
    "for i in range(100):\n",
    "    data += [random.gauss(mu, sigma)]\n",
    "\n",
    "# Calculate the average and standard deviation\n",
    "estimated_mu = sum(data) / len(data)\n",
    "estimated_sigma = 0\n",
    "for el in data:\n",
    "    estimated_sigma += (el - estimated_mu) ** 2\n",
    "estimated_sigma = (estimated_sigma / (len(data) - 1)) ** 0.5\n",
    "print(\"mu\", mu, \"estimation\", round(estimated_mu, 2))\n",
    "print(\"sigma\", sigma, \"estimation\", round(estimated_sigma, 2))"
   ]
  },
  {
   "cell_type": "markdown",
   "metadata": {},
   "source": [
    "## Ex. 5.9\n",
    "We start with a power of 2 `num = 2**n`. Using a `while` loop, determine `n`"
   ]
  },
  {
   "cell_type": "code",
   "execution_count": null,
   "metadata": {},
   "outputs": [],
   "source": [
    "n = 10\n",
    "num = 2**n\n",
    "\n",
    "calculated_n = 0\n",
    "while num != 1:\n",
    "    num /= 2\n",
    "    calculated_n += 1\n",
    "print(\"calculated n is\", calculated_n)"
   ]
  }
 ],
 "metadata": {
  "kernelspec": {
   "display_name": "Python 3 (ipykernel)",
   "language": "python",
   "name": "python3"
  },
  "language_info": {
   "codemirror_mode": {
    "name": "ipython",
    "version": 3
   },
   "file_extension": ".py",
   "mimetype": "text/x-python",
   "name": "python",
   "nbconvert_exporter": "python",
   "pygments_lexer": "ipython3",
   "version": "3.12.3"
  }
 },
 "nbformat": 4,
 "nbformat_minor": 4
}
