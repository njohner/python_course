{
 "cells": [
  {
   "cell_type": "markdown",
   "metadata": {},
   "source": [
    "# Session 16: Matplotlib\n",
    "For matplotlib, we will directly learn through examples. This is much easier as you can directly look at the results on the plots"
   ]
  },
  {
   "cell_type": "markdown",
   "metadata": {},
   "source": [
    "* `matplotlib` ist das Python Modul zur grafischen Darstellung von Daten.\n",
    "* Es ist ähnlich zu den Grafischen Funktionen von Matlab\n",
    "* `matplotlib.pyplot` enthält die Funktionen um Graphen zu erstellen.\n",
    "* Es wird oft als `plt` importiert:"
   ]
  },
  {
   "cell_type": "code",
   "execution_count": null,
   "metadata": {},
   "outputs": [],
   "source": [
    "import matplotlib.pyplot as plt"
   ]
  },
  {
   "cell_type": "markdown",
   "metadata": {},
   "source": [
    "Diese nächste Linie ist nur um plots in jupyter notebooks zu darstellen"
   ]
  },
  {
   "cell_type": "code",
   "execution_count": null,
   "metadata": {},
   "outputs": [],
   "source": [
    "%matplotlib inline"
   ]
  },
  {
   "cell_type": "markdown",
   "metadata": {},
   "source": [
    "Zuerst generieren wir daten für die plots"
   ]
  },
  {
   "cell_type": "code",
   "execution_count": null,
   "metadata": {},
   "outputs": [],
   "source": [
    "import numpy as np\n",
    "x = np.arange(-5, 5.01, 0.5)\n",
    "y1 = 1*x + 1.5 + np.random.normal(0, 1, len(x))\n",
    "y2 = 2*x + np.random.normal(0, 1, len(x))"
   ]
  },
  {
   "cell_type": "markdown",
   "metadata": {},
   "source": [
    "## Daten plotten\n",
    "* Die `plt.figure` Funktion generiert eine neue Figur\n",
    "* Mit der `plt.plot` Funktion kann man Daten plotten.\n",
    "* `plt.savefig` speichert die Figur\n",
    "* `plt.show` zeigt den plot auf dem Bildschirm. Ist in Jupyter-lab nicht notwendig.\n",
    "* `plt.close` schliesst die Figur"
   ]
  },
  {
   "cell_type": "code",
   "execution_count": null,
   "metadata": {},
   "outputs": [],
   "source": [
    "plt.figure()\n",
    "plt.plot(x, y1)\n",
    "plt.savefig(\"plot.pdf\")\n",
    "plt.show()\n",
    "plt.close()"
   ]
  },
  {
   "cell_type": "markdown",
   "metadata": {},
   "source": [
    "## Linie und Symbol formattierung\n",
    "* `plt.plot` nimmt als Optionales Positional Argument eine format string, um Farbe, Linie/Symbol zu kontrollieren"
   ]
  },
  {
   "cell_type": "code",
   "execution_count": null,
   "metadata": {},
   "outputs": [],
   "source": [
    "plt.figure()\n",
    "plt.plot(x, y1, \"ro\")\n",
    "plt.plot(x, y2, \"g--\")\n",
    "plt.show()\n",
    "plt.close()"
   ]
  },
  {
   "cell_type": "markdown",
   "metadata": {},
   "source": [
    "Anstatt der Format string kann man auch alles einzel kontrollieren:\n",
    "* `color`: Farbe\n",
    "* `linestyle`: Linien Typ\n",
    "* `marker`: Symbol"
   ]
  },
  {
   "cell_type": "code",
   "execution_count": null,
   "metadata": {},
   "outputs": [],
   "source": [
    "plt.figure()\n",
    "plt.plot(x, y1, marker=\"o\", color=\"r\", linestyle=\"\")\n",
    "plt.plot(x, y2, linestyle=\"--\", color=\"m\")\n",
    "plt.show()\n",
    "plt.close()"
   ]
  },
  {
   "cell_type": "markdown",
   "metadata": {},
   "source": [
    "Man kann noch viel mehr mit den keyword argumenten kontrollieren. Zum Beispiel:\n",
    "* `markersize`: grösse der Symbole\n",
    "* `linewidth`: breite der Striche"
   ]
  },
  {
   "cell_type": "code",
   "execution_count": null,
   "metadata": {},
   "outputs": [],
   "source": [
    "plt.figure()\n",
    "plt.plot(x, y1, marker=\"x\", color=\"g\", markersize=10)\n",
    "plt.plot(x, y2, linestyle=\"--\", color=\"m\", linewidth=4)\n",
    "plt.show()\n",
    "plt.close()"
   ]
  },
  {
   "cell_type": "markdown",
   "metadata": {},
   "source": [
    "## Daten Labels\n",
    "* `label`keyword in `plt.plot`, um einer Linie einen Namen zu geben\n",
    "* Labels werden mit `plt.legend()` angezeigt"
   ]
  },
  {
   "cell_type": "code",
   "execution_count": null,
   "metadata": {},
   "outputs": [],
   "source": [
    "plt.figure()\n",
    "plt.plot(x, y1, \"ro\", label=\"y1\")\n",
    "plt.plot(x, y2, \"g--\", label=\"y2\")\n",
    "plt.legend(loc=\"best\")\n",
    "plt.show()\n",
    "plt.close()"
   ]
  },
  {
   "cell_type": "markdown",
   "metadata": {},
   "source": [
    "## Title und Achsen Labels\n",
    "`plt` hat Funktionen um alle Aspekten von der Figur zu Kontrollieren:\n",
    "* `plt.title` um einen Title zu setzen\n",
    "* `plt.xlabel` und `plt.ylabel` für die Achsen Titeln  zu setzen"
   ]
  },
  {
   "cell_type": "code",
   "execution_count": null,
   "metadata": {},
   "outputs": [],
   "source": [
    "plt.figure()\n",
    "plt.plot(x, y1)\n",
    "plt.xlabel(\"x-label\")\n",
    "plt.ylabel(\"y-label\")\n",
    "plt.title(\"My plot title\")\n",
    "plt.show()\n",
    "plt.close()"
   ]
  },
  {
   "cell_type": "markdown",
   "metadata": {},
   "source": [
    "Grösse von den Text Elementen werden mit `fontsize` kontrolliert:"
   ]
  },
  {
   "cell_type": "code",
   "execution_count": null,
   "metadata": {},
   "outputs": [],
   "source": [
    "plt.figure()\n",
    "plt.plot(x, y1)\n",
    "plt.xlabel(\"x-label\", fontsize=24)\n",
    "plt.ylabel(\"y-label\", fontsize=18)\n",
    "plt.title(\"My plot title\", fontsize=40)\n",
    "plt.show()\n",
    "plt.close()"
   ]
  },
  {
   "cell_type": "markdown",
   "metadata": {},
   "source": [
    "In allen Text Felder kann man auch die *Latex* syntax verwenden um Mathematische Symbolen zu representieren. Einfach das Latex zwischen `$` zeichen:"
   ]
  },
  {
   "cell_type": "code",
   "execution_count": null,
   "metadata": {},
   "outputs": [],
   "source": [
    "plt.figure()\n",
    "plt.plot(x, y1)\n",
    "plt.xlabel(\"distance in [$\\AA$]\")\n",
    "plt.ylabel(\"$a*x+b$\")\n",
    "plt.title(\"My function $\\sqrt{f_a(x)}$\")\n",
    "plt.show()\n",
    "plt.close()"
   ]
  },
  {
   "cell_type": "markdown",
   "metadata": {},
   "source": [
    "## Figur Grösse\n",
    "Die grösse der Figur wird in `plt.figure()` mit `figsize` angegeben (in inches):"
   ]
  },
  {
   "cell_type": "code",
   "execution_count": null,
   "metadata": {},
   "outputs": [],
   "source": [
    "plt.figure(figsize = (8, 4))\n",
    "plt.plot(x, y1, color = 'r', label=\"line\")\n",
    "plt.plot(x, y2, 'x', markersize = 10, label=\"markers\")\n",
    "plt.legend(loc=\"best\")\n",
    "plt.show()\n",
    "plt.close()"
   ]
  },
  {
   "cell_type": "markdown",
   "metadata": {},
   "source": [
    "## Achsen kontrollieren"
   ]
  },
  {
   "cell_type": "markdown",
   "metadata": {},
   "source": [
    "* `plt.xlim` und `plt.ylim` um der range von den Achsen zu kontrollieren\n",
    "* `plt.xscale(\"log\")` für ein logaritmischer Achsen"
   ]
  },
  {
   "cell_type": "code",
   "execution_count": null,
   "metadata": {},
   "outputs": [],
   "source": [
    "plt.figure()\n",
    "plt.plot(x, y1)\n",
    "plt.xlim((1, 5))\n",
    "plt.ylim((-10, 10))\n",
    "plt.xscale(\"log\")\n",
    "plt.show()\n",
    "plt.close()"
   ]
  },
  {
   "cell_type": "markdown",
   "metadata": {},
   "source": [
    "## Histograms\n",
    "`plt.hist(data)` rechnet das hitogram von den daten in `data`, und generiert direkt einen plot"
   ]
  },
  {
   "cell_type": "code",
   "execution_count": null,
   "metadata": {},
   "outputs": [],
   "source": [
    "norm_dist = np.random.normal(0, 1, 500)\n",
    "plt.hist(norm_dist)\n",
    "plt.show()\n",
    "plt.close()"
   ]
  },
  {
   "cell_type": "markdown",
   "metadata": {},
   "source": [
    "* `bins` kontrolliert wieviele bins man brauchen will.\n",
    "* `density` kontrolliert ob man die Number von Daten in jedem bin will oder die Probabilität Verteilung"
   ]
  },
  {
   "cell_type": "code",
   "execution_count": null,
   "metadata": {},
   "outputs": [],
   "source": [
    "plt.hist(norm_dist, density=True, bins=20)\n",
    "plt.show()\n",
    "plt.close()"
   ]
  },
  {
   "cell_type": "markdown",
   "metadata": {},
   "source": [
    "Mann kann auch das histogram für mehrere datensätze gleichzeitig rechnen"
   ]
  },
  {
   "cell_type": "code",
   "execution_count": null,
   "metadata": {},
   "outputs": [],
   "source": [
    "norm_dist1 = np.random.normal(0, 1, 1000)\n",
    "norm_dist2 = np.random.normal(1, 0.5, 1000)\n",
    "plt.hist([norm_dist1, norm_dist2], bins=20, density=True)\n",
    "plt.show()\n",
    "plt.close()"
   ]
  },
  {
   "cell_type": "markdown",
   "metadata": {},
   "source": [
    "## Alle defaults kontrollieren\n",
    "Alle defaults befinden sich in `matplotlib.rcParams`. Die kann mann verändern und es kontrolliert alle plots. `rcParams` ist ein dictionnary."
   ]
  },
  {
   "cell_type": "code",
   "execution_count": null,
   "metadata": {},
   "outputs": [],
   "source": [
    "import matplotlib as mpl\n",
    "mpl.rcParams"
   ]
  },
  {
   "cell_type": "code",
   "execution_count": null,
   "metadata": {},
   "outputs": [],
   "source": [
    "mpl.rcParams['font.size'] = 12\n",
    "mpl.rcParams['legend.fontsize'] = 14\n",
    "mpl.rcParams['xtick.labelsize'] = 12\n",
    "mpl.rcParams['xtick.top'] = True\n",
    "mpl.rcParams['xtick.major.size'] = 8\n",
    "plt.hist([norm_dist1,norm_dist2], bins=20, density=True)\n",
    "plt.show()\n",
    "plt.close()"
   ]
  },
  {
   "cell_type": "markdown",
   "metadata": {},
   "source": [
    "# Zusätzliche informationen"
   ]
  },
  {
   "cell_type": "markdown",
   "metadata": {},
   "source": [
    "Die `plt.hist` funktion gibt die bin Anfang und Ende, die Werte, und die Patches zurück. Mann kann das brauchen um einen Normaler Linien Plot zu generieren, der einfacher Lesbar ist"
   ]
  },
  {
   "cell_type": "code",
   "execution_count": null,
   "metadata": {},
   "outputs": [],
   "source": [
    "hist_y, hist_x, p = plt.hist(norm_dist1, bins=20, density=True)\n",
    "hist_x = 0.5 * (hist_x[1:] + hist_x[:-1])\n",
    "plt.close()\n",
    "plt.figure()\n",
    "plt.plot(hist_x, hist_y, \"rx-\")\n",
    "plt.show()\n",
    "plt.close()"
   ]
  },
  {
   "cell_type": "markdown",
   "metadata": {},
   "source": [
    "## Errorbar plotten\n",
    "Errorbars werden mit `plt.errorbar` erstellt"
   ]
  },
  {
   "cell_type": "code",
   "execution_count": null,
   "metadata": {},
   "outputs": [],
   "source": [
    "y1_err = np.random.normal(0, 1, len(x))\n",
    "x_err = np.random.normal(0, 1, len(x))\n",
    "plt.figure()\n",
    "plt.errorbar(x, y1, yerr=y1_err, marker = \"o\", capsize = 5)\n",
    "plt.errorbar(x, y2, xerr=x_err, marker = \"x\", capsize = 6)\n",
    "plt.show()\n",
    "plt.close()"
   ]
  },
  {
   "cell_type": "markdown",
   "metadata": {},
   "source": [
    "## Linien und text\n",
    "* `plt.vlines` um vertikale Linien hinzufügen\n",
    "* `plt.hlines` um horizontale Linien hinzufügen\n",
    "\n",
    "Die nehmen als erstes argument die Position (oder eine Liste von Positionen) wo die Liene sein soll, und dann wo si anfängt und aufhört"
   ]
  },
  {
   "cell_type": "code",
   "execution_count": null,
   "metadata": {},
   "outputs": [],
   "source": [
    "plt.hist([norm_dist1,norm_dist2], bins=20, density=True)\n",
    "plt.hlines(0.5, plt.xlim()[0], plt.xlim()[1], linestyle=\":\", color=\"r\")\n",
    "plt.vlines([0,1.0],*plt.ylim(),linestyle = \"--\")\n",
    "plt.show()\n",
    "plt.close()"
   ]
  },
  {
   "cell_type": "markdown",
   "metadata": {},
   "source": [
    "* `plt.text(xpos, ypos, text)` um text hinzufügen an der Position `(xpos, ypos)`\n",
    "* `plt.annotate(text, xy=(xpos, ypos), xytext=(text_x, text_y))` um text hinzufügen an der Position `(text_x, text_y)` mit einem Pfeil der auf `(xpos, ypos)` zeigt."
   ]
  },
  {
   "cell_type": "code",
   "execution_count": null,
   "metadata": {},
   "outputs": [],
   "source": [
    "plt.figure()\n",
    "plt.plot(x, y1,\"x\")\n",
    "plt.text(0,0, \"text at position 0,0\", fontsize=16)\n",
    "plt.annotate(\"point to 1,1\",xy=(1, 1), xytext=(-5, 4),arrowprops=dict(facecolor='black'))\n",
    "plt.show()\n",
    "plt.close()"
   ]
  },
  {
   "cell_type": "markdown",
   "metadata": {},
   "source": [
    "## Subplots\n",
    "* Eine Figure mit mehreren Plots wird mit `plt.subplots` generiert. Gibt die Figur und eine liste von `axes` zurück\n",
    "* Dan einfach die elementen von `axes` brauchen um zu plotten\n",
    "* mit `plt.subplots_adjust` kann man die position von den subplots kontrollieren\n",
    "\n",
    "Für `axes` Objekten werden mehrere Methoden von `plt` umgenennt: `set_` wird vor dem Namen eingefügt. Zum Beispiel:\n",
    "* `plt.title` -> `ax.set_title`\n",
    "* `plt.xlabel` -> `ax.set_xlabel`\n",
    "* `plt.xlim` -> `ax.set_xlim`"
   ]
  },
  {
   "cell_type": "code",
   "execution_count": null,
   "metadata": {},
   "outputs": [],
   "source": [
    "mpl.rcParams['xtick.top'] = False\n",
    "mpl.rcParams['xtick.major.size'] = 4\n",
    "\n",
    "f, axes = plt.subplots(2,2,sharey = \"row\", figsize = (10,8))\n",
    "f.suptitle(\"Overall title\", fontsize=20)\n",
    "axes[0,0].plot(x,y1)\n",
    "axes[0,1].errorbar(x, y2, y1_err, capsize = 5)\n",
    "axes[1,0].hist(norm_dist1, density=True, bins=20)\n",
    "axes[1,1].hist(norm_dist1, density=True, bins=20, cumulative=True)\n",
    "for i,axl in enumerate(axes):\n",
    "    for j,ax in enumerate(axl):\n",
    "        ax.set_title(\"subtitle ({},{})\".format(i,j))\n",
    "        ax.set_xlabel(\"x-label ({},{})\".format(i,j))\n",
    "    axl[0].set_ylabel(\"y-label\")\n",
    "plt.subplots_adjust(right = 0.98, wspace = 0.02, hspace = 0.35)\n",
    "plt.show()"
   ]
  },
  {
   "cell_type": "code",
   "execution_count": null,
   "metadata": {},
   "outputs": [],
   "source": []
  }
 ],
 "metadata": {
  "kernelspec": {
   "display_name": "Python 3 (ipykernel)",
   "language": "python",
   "name": "python3"
  },
  "language_info": {
   "codemirror_mode": {
    "name": "ipython",
    "version": 3
   },
   "file_extension": ".py",
   "mimetype": "text/x-python",
   "name": "python",
   "nbconvert_exporter": "python",
   "pygments_lexer": "ipython3",
   "version": "3.12.3"
  }
 },
 "nbformat": 4,
 "nbformat_minor": 4
}
