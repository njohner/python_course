{
 "cells": [
  {
   "cell_type": "markdown",
   "metadata": {},
   "source": [
    "# Exercises 17: scipy\n",
    "Let's use scipy's optimization module to fit functions to some data.\n",
    "\n",
    "As in the last exercises, we will work with the Diabetes progression dataset. We will also be using matplotlib and numpy, which are essential when working with data. Let's import them below and make sure plots get displayed inline in this notebook:"
   ]
  },
  {
   "cell_type": "code",
   "execution_count": null,
   "metadata": {},
   "outputs": [],
   "source": [
    "%matplotlib inline\n",
    "import numpy as np\n",
    "import matplotlib as mpl\n",
    "import matplotlib.pyplot as plt\n",
    "from sklearn.datasets import load_diabetes\n",
    "try:\n",
    "    diabetes = load_diabetes(scaled=False)\n",
    "except:\n",
    "    diabetes = load_diabetes()\n",
    "    diabetes.data[:,1] = np.where(diabetes.data[:,1] > 0, 2, 1)"
   ]
  },
  {
   "cell_type": "markdown",
   "metadata": {},
   "source": [
    "## Exercise 17.1\n",
    "### Exercise 17.1.1\n",
    "As we saw in Ex. 16.1.5, `s3` is highly correlated to `s4`. Try to fit the function `exponential` I defined for you below to `s3` vs `s4`, using the `scipy.optimize.curve_fit` function. Then plot the data and the fitted function."
   ]
  },
  {
   "cell_type": "code",
   "execution_count": null,
   "metadata": {},
   "outputs": [],
   "source": [
    "from scipy import optimize\n",
    "\n",
    "def exponential(x, a, b, c): \n",
    "    return a * np.exp(- 0.01 * b * x) + c"
   ]
  },
  {
   "cell_type": "code",
   "execution_count": null,
   "metadata": {},
   "outputs": [],
   "source": [
    "# get the data to fit from the diabetes dataset\n",
    "i = diabetes.feature_names.index(\"s3\")\n",
    "j = diabetes.feature_names.index(\"s4\")\n",
    "x_data = diabetes.data[:,i]\n",
    "y_data = diabetes.data[:,j]\n",
    "\n",
    "# fit exponential to the data\n",
    "fit_result = optimize.curve_fit(exponential, x_data, y_data)\n",
    "print(fit_result)"
   ]
  },
  {
   "cell_type": "code",
   "execution_count": null,
   "metadata": {},
   "outputs": [],
   "source": [
    "# Now we plot the data and the fitted function\n",
    "plt.figure()\n",
    "\n",
    "# here we plot the data\n",
    "plt.plot(x_data, y_data, \"x\", label = \"data\")\n",
    "\n",
    "# Now we plot the fitted function. We want to evaluate it for each\n",
    "# point in our x_data. To be able to plot the function as a line, we\n",
    "# sort the x_data first.\n",
    "x_fit = np.sort(x_data)\n",
    "y_fit = exponential(x_fit, fit_result[0][0],  fit_result[0][1],  fit_result[0][2])\n",
    "plt.plot(x_fit, y_fit, \"--\", label = \"fit\")\n",
    "\n",
    "# Finally we set some legends and labels for our plot\n",
    "plt.legend(loc = \"best\")\n",
    "plt.xlabel(diabetes.feature_names[i])\n",
    "plt.ylabel(diabetes.feature_names[j])\n",
    "plt.show()"
   ]
  },
  {
   "cell_type": "markdown",
   "metadata": {},
   "source": [
    "### Exercise 17.1.2\n",
    "Now let's look at `bmi` and the disease progression, which have a decent positive correlation. As above, use `scipy.optimize.curve_fit` to fit a function to the data, but this time fit a simple line. Then plot the data with the fitted line"
   ]
  },
  {
   "cell_type": "code",
   "execution_count": null,
   "metadata": {},
   "outputs": [],
   "source": [
    "def line(x, a, b): \n",
    "    return a*x + b\n",
    "\n",
    "# get the data to fit from the diabetes dataset\n",
    "i = diabetes.feature_names.index(\"bmi\")\n",
    "x_data = diabetes.data[:,i]\n",
    "y_data = diabetes.target\n",
    "\n",
    "# fit line to the data\n",
    "fit_result = optimize.curve_fit(line, x_data, y_data)\n",
    "print(fit_result)"
   ]
  },
  {
   "cell_type": "code",
   "execution_count": null,
   "metadata": {},
   "outputs": [],
   "source": [
    "plt.figure()\n",
    "plt.plot(x_data, y_data, \"x\", label = \"data\")\n",
    "\n",
    "# Now we plot the fitted function. As it is a line, we only need\n",
    "# to evaluate it at two points to be able to plot it correctly. For that\n",
    "# we simply use the current x-limits of the plot so that our fitted line will\n",
    "# span the whole x-range of our plot.\n",
    "x_fit = np.array(plt.xlim())\n",
    "y_fit = line(x_fit, fit_result[0][0], fit_result[0][1])\n",
    "plt.plot(x_fit, y_fit, \"--\", label = \"fit\")\n",
    "\n",
    "# Finally we set some legends and labels for our plot\n",
    "plt.legend(loc = \"best\")\n",
    "plt.xlabel(diabetes.feature_names[i])\n",
    "plt.ylabel(\"Disease progression\")\n",
    "plt.show()"
   ]
  },
  {
   "cell_type": "markdown",
   "metadata": {},
   "source": [
    "# Supplementary\n",
    "We will now do some clustering with scipy. For these you will need to look at the supplementary slides\n",
    "\n",
    "## Exercise 17.2\n",
    "In our dataset there is one categorical variable (`\"sex\"`). We will use all the other features for clustering, generate 2 clusters and then look at them.\n",
    "### Exercise 17.2.1\n",
    "Use kmeans clustering (`scipy.cluster.vq.kmeans2`) to generate 2 clusters from all the features except `\"sex\"`. "
   ]
  },
  {
   "cell_type": "code",
   "execution_count": null,
   "metadata": {},
   "outputs": [],
   "source": [
    "from scipy import cluster\n",
    "# We use a mask to filter out the column for the sex feature\n",
    "data = diabetes.data[:, np.array(diabetes.feature_names) != \"sex\"]\n",
    "print(\"our data has dimensions\", data.shape)\n",
    "\n",
    "# Now we perform the kmeans clustering with two clusters\n",
    "cluster_centroids, cluster_assignments = cluster.vq.kmeans2(data, 2)"
   ]
  },
  {
   "cell_type": "markdown",
   "metadata": {},
   "source": [
    "### Exercise 17.2.2\n",
    "Now make a plot of the disease progression (y-axis) as a function of the `\"sex\"` feature, but with each cluster plotted with its own marker and color (you can use a mask for that).\n",
    "\n",
    "Are the clusters well separated on these variables?"
   ]
  },
  {
   "cell_type": "code",
   "execution_count": null,
   "metadata": {},
   "outputs": [],
   "source": [
    "plt.figure()\n",
    "\n",
    "i = diabetes.feature_names.index('sex')\n",
    "# cluster_assignments is an array of 0 and 1, assigning each data point to\n",
    "# one of the two clusters. We can use it for masking\n",
    "mask1 = cluster_assignments == 1\n",
    "plt.plot(diabetes.data[mask1,i], diabetes.target[mask1], \"o\")\n",
    "\n",
    "mask2 = np.logical_not(mask1)\n",
    "plt.plot(diabetes.data[mask2,i], diabetes.target[mask2], \"x\")\n",
    "\n",
    "plt.xlabel(diabetes.feature_names[i])\n",
    "plt.ylabel(\"Disease progression\")\n",
    "plt.show()"
   ]
  },
  {
   "cell_type": "markdown",
   "metadata": {},
   "source": [
    "### Exercise 17.2.3\n",
    "Now make a plot of `\"s3\"` (y-axis) as a function of the `\"s1\"` feature, but with each cluster plotted with its own marker and color as above.\n",
    "\n",
    "Are the clusters well separated on these two variable?"
   ]
  },
  {
   "cell_type": "code",
   "execution_count": null,
   "metadata": {},
   "outputs": [],
   "source": [
    "plt.figure()\n",
    "\n",
    "# cluster_assignments is an array of 0 and 1, assigning each data point to\n",
    "# one of the two clusters. We can use it for masking\n",
    "i = diabetes.feature_names.index('s1')\n",
    "j = diabetes.feature_names.index('s3')\n",
    "plt.plot(diabetes.data[mask1,i], diabetes.data[mask1,j], \"o\")\n",
    "plt.plot(diabetes.data[mask2,i], diabetes.data[mask2,j], \"x\")\n",
    "plt.xlabel(diabetes.feature_names[i])\n",
    "plt.ylabel(diabetes.feature_names[j])\n",
    "plt.show()"
   ]
  },
  {
   "cell_type": "code",
   "execution_count": null,
   "metadata": {},
   "outputs": [],
   "source": []
  }
 ],
 "metadata": {
  "kernelspec": {
   "display_name": "Python 3 (ipykernel)",
   "language": "python",
   "name": "python3"
  },
  "language_info": {
   "codemirror_mode": {
    "name": "ipython",
    "version": 3
   },
   "file_extension": ".py",
   "mimetype": "text/x-python",
   "name": "python",
   "nbconvert_exporter": "python",
   "pygments_lexer": "ipython3",
   "version": "3.12.3"
  }
 },
 "nbformat": 4,
 "nbformat_minor": 4
}
