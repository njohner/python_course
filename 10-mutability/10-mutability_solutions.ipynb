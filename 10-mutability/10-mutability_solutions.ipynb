{
 "cells": [
  {
   "cell_type": "markdown",
   "metadata": {},
   "source": [
    "# Exercises 10: Mutability"
   ]
  },
  {
   "cell_type": "markdown",
   "metadata": {},
   "source": [
    "In these exercises we will try to get a feel for how mutable and immutable objects behave in python and what common errors this can lead to when programming in Python. Some of the approaches proposed will lead to errors in this series of exercises, try to understand why."
   ]
  },
  {
   "cell_type": "markdown",
   "metadata": {},
   "source": [
    "## Ex. 10.1: References to immutable objects\n",
    "### Ex. 10.1.1\n",
    "Create 2 variables, both with value 1. Then print their `id`. Also print the `id` of the literal `1`."
   ]
  },
  {
   "cell_type": "code",
   "execution_count": null,
   "metadata": {},
   "outputs": [],
   "source": [
    "a = 1\n",
    "b = 1\n",
    "print(id(a))\n",
    "print(id(b))\n",
    "print(id(1))"
   ]
  },
  {
   "cell_type": "markdown",
   "metadata": {},
   "source": [
    "### Ex. 10.1.2\n",
    "The function `sys.getrefcount` counts how many times an object is referenced, i.e. how many variables point to it.\n",
    "* Use it to count how many references the object `1` has.\n",
    "* What would happen if it were mutable?"
   ]
  },
  {
   "cell_type": "code",
   "execution_count": null,
   "metadata": {},
   "outputs": [],
   "source": [
    "import sys\n",
    "print(sys.getrefcount(1))"
   ]
  },
  {
   "cell_type": "markdown",
   "metadata": {},
   "source": [
    "If it were mutable, changing any variable referencing it would change the value of all the other variables with value `1`."
   ]
  },
  {
   "cell_type": "markdown",
   "metadata": {},
   "source": [
    "## Ex. 10.2 Iterations and mutability"
   ]
  },
  {
   "cell_type": "markdown",
   "metadata": {},
   "source": [
    "### Ex. 10.2.1 Modifying elements of a list\n",
    "We have a dataset with some missing values (indicated by the value `None`). We would like to clean it up and center it around 0:\n",
    "- remove all entries with value `None`\n",
    "- Calculate the average over the remaining values and remove the average from every value."
   ]
  },
  {
   "cell_type": "code",
   "execution_count": null,
   "metadata": {},
   "outputs": [],
   "source": [
    "data = [0.2,0.6,0.1,0.8,None,0.3,None,0.9,None,0.7]"
   ]
  },
  {
   "cell_type": "code",
   "execution_count": null,
   "metadata": {},
   "outputs": [],
   "source": [
    "clean_data = []\n",
    "for val in data:\n",
    "    if val is not None:\n",
    "        clean_data.append(val)\n",
    "print(clean_data)"
   ]
  },
  {
   "cell_type": "code",
   "execution_count": null,
   "metadata": {},
   "outputs": [],
   "source": [
    "clean_data = []\n",
    "for val in data:\n",
    "    if val is None:\n",
    "        continue\n",
    "    clean_data.append(val)\n",
    "print(clean_data)"
   ]
  },
  {
   "cell_type": "code",
   "execution_count": null,
   "metadata": {},
   "outputs": [],
   "source": [
    "average = sum(clean_data) / len(clean_data)"
   ]
  },
  {
   "cell_type": "code",
   "execution_count": null,
   "metadata": {},
   "outputs": [],
   "source": [
    "normalised_data = []\n",
    "for val in clean_data:\n",
    "    normalised_data.append(val - average)\n",
    "print(normalised_data)"
   ]
  },
  {
   "cell_type": "markdown",
   "metadata": {},
   "source": [
    "What would not have worked is trying to modify the values directly:"
   ]
  },
  {
   "cell_type": "code",
   "execution_count": null,
   "metadata": {},
   "outputs": [],
   "source": [
    "for val in clean_data:\n",
    "    val -= average\n",
    "print(clean_data)"
   ]
  },
  {
   "cell_type": "markdown",
   "metadata": {},
   "source": [
    "Instead if we don't want to create a new list, we need to use indexing to assign new values to the elements of the list:"
   ]
  },
  {
   "cell_type": "code",
   "execution_count": null,
   "metadata": {},
   "outputs": [],
   "source": [
    "for i, val in enumerate(clean_data):\n",
    "    clean_data[i] -= average\n",
    "print(clean_data)"
   ]
  },
  {
   "cell_type": "markdown",
   "metadata": {},
   "source": [
    "### Ex. 10.2.2 Modifying elements of a dictionary\n",
    "We now have a dictionary containing the ages of a set of persons. Imagine that a year has passed and we need to update all the ages by adding one."
   ]
  },
  {
   "cell_type": "code",
   "execution_count": null,
   "metadata": {},
   "outputs": [],
   "source": [
    "ages = {\"Peter\": 32, \"Tina\": 38, \"Hans\": 18, \"Brigitte\": 42}"
   ]
  },
  {
   "cell_type": "markdown",
   "metadata": {},
   "source": [
    "As before trying to midify directly the values would not work"
   ]
  },
  {
   "cell_type": "code",
   "execution_count": null,
   "metadata": {},
   "outputs": [],
   "source": [
    "for val in ages.values():\n",
    "    val += 1\n",
    "print(ages)"
   ]
  },
  {
   "cell_type": "markdown",
   "metadata": {},
   "source": [
    "Instead we need to access the elements of the dicitonary using their keys to assign new values to them."
   ]
  },
  {
   "cell_type": "code",
   "execution_count": null,
   "metadata": {},
   "outputs": [],
   "source": [
    "for key in ages:\n",
    "    ages[key] = ages[key] + 1\n",
    "    \n",
    "print(ages)"
   ]
  },
  {
   "cell_type": "markdown",
   "metadata": {},
   "source": [
    "# Supplementary"
   ]
  },
  {
   "cell_type": "markdown",
   "metadata": {},
   "source": [
    "## Ex 10.3\n",
    "We start from a list `numbers` and we would like to take out all the even numbers from it and put them in a separate list. Find a safe way of doing this, i.e. do not modify the list while iterating over it"
   ]
  },
  {
   "cell_type": "code",
   "execution_count": null,
   "metadata": {},
   "outputs": [],
   "source": [
    "numbers = list(range(20))\n",
    "even = []\n",
    "for el in numbers:\n",
    "    if el%2 == 0:\n",
    "        even.append(el)\n",
    "\n",
    "for el in even:\n",
    "    numbers.remove(el)\n",
    "\n",
    "print(\"odd numbers\", numbers)\n",
    "print(\"even numbers\", even)"
   ]
  },
  {
   "cell_type": "markdown",
   "metadata": {},
   "source": [
    "## Ex. 10.4\n",
    "We now have some data consisting of 2 columns (a UID and measurement), saved in a list of lists. Some values are missing and we want to drop them for future calculations. We will do this in 3 different ways:\n",
    "* Clean up the data by generating a new list `clean_data` containing only the observations for which the measurement is available\n",
    "* Clean up the data by removing from the list `data` the unwanted observations. To do this, create a list of unwanted items in a first iteration, then remove them in a second iteration.\n",
    "\n",
    "Always print the resulting cleaned data, to verify your result."
   ]
  },
  {
   "cell_type": "code",
   "execution_count": null,
   "metadata": {},
   "outputs": [],
   "source": [
    "data = [list(range(10)),[0.2,0.6,0.1,0.8,None,0.3,None,0.9,None,0.7]]\n",
    "# create a new list clean_data\n",
    "clean_data = [[], []]\n",
    "for uid, val in zip(data[0], data[1]):\n",
    "    if val is not None:\n",
    "        clean_data[0].append(uid)\n",
    "        clean_data[1].append(val)\n",
    "print(clean_data)"
   ]
  },
  {
   "cell_type": "code",
   "execution_count": null,
   "metadata": {},
   "outputs": [],
   "source": [
    "data = [list(range(10)),[0.2,0.6,0.1,0.8,None,0.3,None,0.9,None,0.7]]\n",
    "# remove unwanted entries directly from the data list\n",
    "to_remove = []\n",
    "for uid, val in zip(data[0], data[1]):\n",
    "    if not val:\n",
    "        to_remove.append(uid)\n",
    "for uid in to_remove:\n",
    "    i = data[0].index(uid)\n",
    "    data[0].pop(i)\n",
    "    data[1].pop(i)\n",
    "print(data)"
   ]
  }
 ],
 "metadata": {
  "kernelspec": {
   "display_name": "Python 3 (ipykernel)",
   "language": "python",
   "name": "python3"
  },
  "language_info": {
   "codemirror_mode": {
    "name": "ipython",
    "version": 3
   },
   "file_extension": ".py",
   "mimetype": "text/x-python",
   "name": "python",
   "nbconvert_exporter": "python",
   "pygments_lexer": "ipython3",
   "version": "3.12.3"
  }
 },
 "nbformat": 4,
 "nbformat_minor": 4
}
