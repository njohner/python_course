{
 "cells": [
  {
   "cell_type": "markdown",
   "metadata": {},
   "source": [
    "# Exercise 4: Conditionals\n",
    "\n",
    "In these exercises we look at boolean operators, comparisons and conditional statements\n",
    "## 4.1 Boolean operators"
   ]
  },
  {
   "cell_type": "markdown",
   "metadata": {},
   "source": [
    "### Ex. 4.1.1\n",
    "\n",
    "Let's look at the boolean operators `and` and `or`. \n",
    "Try to predict what the result would be for the following boolean operations. Then try them out in python.\n",
    "You can add your predictions in this cell and then try them out in the next.\n",
    "* `True and False`? False\n",
    "* `True or False`? True\n",
    "* `False or True and False`? False"
   ]
  },
  {
   "cell_type": "code",
   "execution_count": null,
   "metadata": {},
   "outputs": [],
   "source": [
    "print(True and False)\n",
    "print(True or False)\n",
    "print(False or True and False)"
   ]
  },
  {
   "cell_type": "markdown",
   "metadata": {},
   "source": [
    "### Ex. 4.1.2\n",
    "\n",
    "A few more with the `not` operator\n",
    "* `not True and False`? False\n",
    "* `not False and True`? True\n",
    "* `True and not False or True`? True"
   ]
  },
  {
   "cell_type": "code",
   "execution_count": null,
   "metadata": {},
   "outputs": [],
   "source": [
    "print(not True and False)\n",
    "print(not False and True)\n",
    "print(True and not False or True)"
   ]
  },
  {
   "cell_type": "markdown",
   "metadata": {},
   "source": [
    "### Ex. 4.1.3\n",
    "\n",
    "Now with non boolean objects:\n",
    "* `bool([])`? False\n",
    "* `bool(\"\")`? False\n",
    "* `bool(0)`? False\n",
    "* `bool(\"0\")`? True"
   ]
  },
  {
   "cell_type": "code",
   "execution_count": null,
   "metadata": {},
   "outputs": [],
   "source": [
    "print(bool([]))\n",
    "print(bool(\"\"))\n",
    "print(bool(0))\n",
    "print(bool(\"0\"))"
   ]
  },
  {
   "cell_type": "markdown",
   "metadata": {},
   "source": [
    "## 4.2 Comparisons\n",
    "### Ex. 4.2.1\n",
    "\n",
    "define two variables `a` and `b` (give them some numerical value), then write the following comparisons:\n",
    "* `a` is smaller than `b`\n",
    "* `a` is larger or equal to `b`\n",
    "* `a` is equal to `b`\n",
    "* `a` is the same object as `b`"
   ]
  },
  {
   "cell_type": "code",
   "execution_count": null,
   "metadata": {},
   "outputs": [],
   "source": [
    "a = 12\n",
    "b = 6\n",
    "print(a < b)\n",
    "print(a >= b)\n",
    "print(a == b)\n",
    "print(a is b)"
   ]
  },
  {
   "cell_type": "markdown",
   "metadata": {},
   "source": [
    "### Ex. 4.2.2\n",
    "\n",
    "Now test whether both `a` and `b` are positive."
   ]
  },
  {
   "cell_type": "code",
   "execution_count": null,
   "metadata": {},
   "outputs": [],
   "source": [
    "print(a > 0 and b > 0)"
   ]
  },
  {
   "cell_type": "markdown",
   "metadata": {},
   "source": [
    "### Ex. 4.2.3\n",
    "\n",
    "Now test whether either `a` or `b` are positive."
   ]
  },
  {
   "cell_type": "code",
   "execution_count": null,
   "metadata": {},
   "outputs": [],
   "source": [
    "print(a > 0 or b > 0)"
   ]
  },
  {
   "cell_type": "markdown",
   "metadata": {},
   "source": [
    "## 4.3 Conditional statements\n",
    "### Ex. 4.3.1\n",
    "Define a list `seq`, if it is empty, print \"sequence is empty\", otherwise print \"sequence is not empty\".\n",
    "\n",
    "**Supplementary**\n",
    "* Can you find two different ways of testing whether the array is empty?"
   ]
  },
  {
   "cell_type": "code",
   "execution_count": null,
   "metadata": {},
   "outputs": [],
   "source": [
    "seq = [1]\n",
    "if len(seq) == 0:\n",
    "    print(\"sequence is empty\")\n",
    "else:\n",
    "    print(\"sequence is not empty\")"
   ]
  },
  {
   "cell_type": "code",
   "execution_count": null,
   "metadata": {},
   "outputs": [],
   "source": [
    "if not seq:\n",
    "    print(\"sequence is empty\")\n",
    "else:\n",
    "    print(\"sequence is not empty\")"
   ]
  },
  {
   "cell_type": "code",
   "execution_count": null,
   "metadata": {},
   "outputs": [],
   "source": [
    "if seq:\n",
    "    print(\"sequence is not empty\")\n",
    "else:\n",
    "    print(\"sequence is empty\")"
   ]
  },
  {
   "cell_type": "markdown",
   "metadata": {},
   "source": [
    "### Ex. 4.3.2\n",
    "Define a list `seq`, if it is empty, print \"sequence is empty\"; if it contains a single element, print \"sequence contains one element\"; else print \"sequence contains several elements\"."
   ]
  },
  {
   "cell_type": "code",
   "execution_count": null,
   "metadata": {},
   "outputs": [],
   "source": [
    "seq = [1, 2]\n",
    "if len(seq) == 0:\n",
    "    print(\"sequence is empty\")\n",
    "elif len(seq) == 1:\n",
    "    print(\"sequence contains one element\")\n",
    "else:\n",
    "    print(\"sequence contains several elements\")"
   ]
  },
  {
   "cell_type": "markdown",
   "metadata": {},
   "source": [
    "# Supplementary Exercises"
   ]
  },
  {
   "cell_type": "markdown",
   "metadata": {},
   "source": [
    "## 4.4 More conditional statements"
   ]
  },
  {
   "cell_type": "markdown",
   "metadata": {},
   "source": [
    "### Ex. 4.4.1\n",
    "Define a variable `a`, test whether it is a string, if so cast it to an integer and assign that integer to `a`, if it is an int, cast it to a string. Then print the type of `a` to check that its class has switched. Try it out with `a=\"2\"` or `a=2`"
   ]
  },
  {
   "cell_type": "code",
   "execution_count": null,
   "metadata": {},
   "outputs": [],
   "source": [
    "a = \"2\"\n",
    "if type(a) == str:\n",
    "    a = int(a)\n",
    "elif type(a) == int:\n",
    "    a = str(a)\n",
    "print(type(a))"
   ]
  },
  {
   "cell_type": "markdown",
   "metadata": {},
   "source": [
    "### Ex. 4.4.2\n",
    "repeat exercice 4.4.1 but use the function `isinstance` to test of what type `a` is."
   ]
  },
  {
   "cell_type": "code",
   "execution_count": null,
   "metadata": {},
   "outputs": [],
   "source": [
    "# a more common way of testing that an object is of a certain type is to use the isinstance function\n",
    "a = \"2\"\n",
    "if isinstance(a, str):\n",
    "    a = int(a)\n",
    "elif isinstance(a, int):\n",
    "    a = str(a)\n",
    "print(type(a))"
   ]
  },
  {
   "cell_type": "markdown",
   "metadata": {},
   "source": [
    "### Ex. 4.4.3\n",
    "We want to calculate `x = 1/(a-2)+1/a`. This is undefined for `a` equal to 2 or when `a` is equal to 0.\n",
    "* Use conditional statement to avoid dividing by zero and return `None` in those cases.\n",
    "* Now use conditional statements to print `\"first fraction undefined\"` or `\"second fraction undefined\"` respectively when the first or second fraction is undefined. Again x should be `None` in those cases, otherwise `x = 1/(a-2)+1/a`.\n",
    "    * Do this with a nested conditional statement\n",
    "    * Without nested conditional statements"
   ]
  },
  {
   "cell_type": "code",
   "execution_count": null,
   "metadata": {},
   "outputs": [],
   "source": [
    "a = 2\n",
    "if a != 2 and a != 0:\n",
    "    x = 1/(a-2)+1/a\n",
    "else:\n",
    "    x = None\n",
    "print(x)"
   ]
  },
  {
   "cell_type": "code",
   "execution_count": null,
   "metadata": {},
   "outputs": [],
   "source": [
    "a = 2\n",
    "if a == 2 or a == 0:\n",
    "    x = None\n",
    "    if a == 2:\n",
    "        print(\"first fraction undefined\")\n",
    "    else:\n",
    "        print(\"second fraction undefined\")\n",
    "else:\n",
    "    x = 1/(a-2)+1/a\n",
    "print(x)"
   ]
  },
  {
   "cell_type": "code",
   "execution_count": null,
   "metadata": {},
   "outputs": [],
   "source": [
    "a = -2\n",
    "x = None\n",
    "if a == 2:\n",
    "    print(\"first fraction undefined\")\n",
    "elif a==0:\n",
    "    print(\"second fraction undefined\")\n",
    "else:\n",
    "    x = 1/(a-2)+1/a\n",
    "print(x)"
   ]
  },
  {
   "cell_type": "markdown",
   "metadata": {},
   "source": [
    "## Ex. 4.5: Boolean operations with other object types\n",
    "To do these, you will need to look at the supplementary slides first"
   ]
  },
  {
   "cell_type": "markdown",
   "metadata": {},
   "source": [
    "### Ex. 4.5.1\n",
    "\n",
    "Try to predict what the result would be for the following boolean operations. Then try them out in python.\n",
    "You can add your predictions in this cell and then try them out in the next.\n",
    "* `0 or 2 or 3`? 2\n",
    "* `[0] or 2 and 3`? [0]\n",
    "* `[] or None or -1`? -1\n",
    "* `[] and None and -1`? []\n",
    "* `0 or True and 1 or \"ok\"`? 1"
   ]
  },
  {
   "cell_type": "code",
   "execution_count": null,
   "metadata": {},
   "outputs": [],
   "source": [
    "print(0 or 2 or 3)\n",
    "print([0] or 2 and 3)\n",
    "print([] or None or -1)\n",
    "print([] and None and -1)\n",
    "print(0 or True and 1 or \"ok\")"
   ]
  },
  {
   "cell_type": "markdown",
   "metadata": {},
   "source": [
    "### Ex. 4.5.2\n",
    "* Define a variable `a` and give it an integer value\n",
    "* Define a variable `b` that takes the value `1 / a` when `a` is not zero, `None` otherwise. Do it in a single line using a boolean operator "
   ]
  },
  {
   "cell_type": "code",
   "execution_count": null,
   "metadata": {},
   "outputs": [],
   "source": [
    "a = 0\n",
    "b = a and 1.0 / a or None\n",
    "print(b)"
   ]
  },
  {
   "cell_type": "markdown",
   "metadata": {},
   "source": [
    "### Ex. 4.5.3\n",
    "\n",
    "Repeat exercice **4.3.1** but do it in a single line"
   ]
  },
  {
   "cell_type": "code",
   "execution_count": null,
   "metadata": {
    "scrolled": true,
    "tags": []
   },
   "outputs": [],
   "source": [
    "seq = [1]\n",
    "print(seq and \"sequence is not empty\" or \"sequence is empty\")"
   ]
  },
  {
   "cell_type": "markdown",
   "metadata": {
    "tags": []
   },
   "source": [
    "## Ex. 4.6: The `all` and `any` functions\n",
    "These functions are presentend in the supplementary slides"
   ]
  },
  {
   "cell_type": "markdown",
   "metadata": {
    "tags": []
   },
   "source": [
    "### Ex. 4.6.1\n",
    "A list `numbers` is defined below.\n",
    "- Check whether any of the elements of `numbers` defined below is Truthy\n",
    "- Check whether all of the elements of `numbers` are Truthy\n",
    "- Check whether all of the elements of `numbers` are Falsy"
   ]
  },
  {
   "cell_type": "code",
   "execution_count": null,
   "metadata": {},
   "outputs": [],
   "source": [
    "numbers = [0, 0]"
   ]
  },
  {
   "cell_type": "code",
   "execution_count": null,
   "metadata": {},
   "outputs": [],
   "source": [
    "print(\"Is any of the element different from 0?\")\n",
    "any(numbers)"
   ]
  },
  {
   "cell_type": "code",
   "execution_count": null,
   "metadata": {},
   "outputs": [],
   "source": [
    "print(\"Are all of the element different from 0?\")\n",
    "all(numbers)"
   ]
  },
  {
   "cell_type": "code",
   "execution_count": null,
   "metadata": {},
   "outputs": [],
   "source": [
    "print(\"Are all of the element 0?\")\n",
    "not any(numbers)"
   ]
  },
  {
   "cell_type": "code",
   "execution_count": null,
   "metadata": {},
   "outputs": [],
   "source": []
  }
 ],
 "metadata": {
  "kernelspec": {
   "display_name": "Python 3 (ipykernel)",
   "language": "python",
   "name": "python3"
  },
  "language_info": {
   "codemirror_mode": {
    "name": "ipython",
    "version": 3
   },
   "file_extension": ".py",
   "mimetype": "text/x-python",
   "name": "python",
   "nbconvert_exporter": "python",
   "pygments_lexer": "ipython3",
   "version": "3.12.3"
  }
 },
 "nbformat": 4,
 "nbformat_minor": 4
}
