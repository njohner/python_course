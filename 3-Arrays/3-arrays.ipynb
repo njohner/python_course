{
 "cells": [
  {
   "cell_type": "markdown",
   "metadata": {},
   "source": [
    "# Exercise 3: Python arrays\n",
    "\n",
    "In these exercises we will take a look at python arrays: strings, lists and tuples"
   ]
  },
  {
   "cell_type": "markdown",
   "metadata": {},
   "source": [
    "## Ex 3.1 indexing and slicing\n",
    "Define a tuple named `numbers` containing elements 1,2,3,4 and 5. Then:\n",
    "* verify that it is indeed a tuple by printing its class to the screen\n",
    "* print the first element of `numbers`\n",
    "* print the last element\n",
    "* print the last element assuming you don't know the length of the array\n",
    "* print the first 3 elements\n",
    "* print every second element of the array"
   ]
  },
  {
   "cell_type": "code",
   "execution_count": null,
   "metadata": {},
   "outputs": [],
   "source": []
  },
  {
   "cell_type": "markdown",
   "metadata": {},
   "source": [
    "## Ex 3.2 concatenation\n",
    "Define 2 strings, with names `string1` and `string2`, then assign the concatenation of these two strings to a variable `message` and print it"
   ]
  },
  {
   "cell_type": "code",
   "execution_count": null,
   "metadata": {},
   "outputs": [],
   "source": []
  },
  {
   "cell_type": "markdown",
   "metadata": {},
   "source": [
    "## Ex 3.3\n",
    "Below I defined a list using `number_range = list(range(n))`, which will contain the integers from `0` to `n-1`."
   ]
  },
  {
   "cell_type": "code",
   "execution_count": null,
   "metadata": {},
   "outputs": [],
   "source": [
    "number_range = list(range(20))"
   ]
  },
  {
   "cell_type": "markdown",
   "metadata": {},
   "source": [
    "### Ex 3.3.1\n",
    "- Check whether 0 is in number_range\n",
    "- Check whether 20 is in number_range"
   ]
  },
  {
   "cell_type": "code",
   "execution_count": null,
   "metadata": {},
   "outputs": [],
   "source": []
  },
  {
   "cell_type": "markdown",
   "metadata": {},
   "source": [
    "### Ex 3.3.2\n",
    "* define a variable `sliced` containing every third element of `number_range`\n",
    "* Now print all the elements of `sliced` except the first and the last one."
   ]
  },
  {
   "cell_type": "code",
   "execution_count": null,
   "metadata": {},
   "outputs": [],
   "source": []
  },
  {
   "cell_type": "markdown",
   "metadata": {},
   "source": [
    "### Ex 3.3.3\n",
    "Repeat exercice 3.3.2 but in a single line of code, i.e. without using an intermediate variable `sliced` to store the slice. Instead you can chain the two slicing operations. Try that"
   ]
  },
  {
   "cell_type": "code",
   "execution_count": null,
   "metadata": {},
   "outputs": [],
   "source": []
  },
  {
   "cell_type": "markdown",
   "metadata": {},
   "source": [
    "## Ex 3.4\n",
    "In the code below I defined a list (`rand_list`) of 20 random integers between 0 and 4.\n",
    "* print the minimal and maximal value in the list\n",
    "* Count how many times *3* appears in the list\n",
    "* Find the position of the first element with value *3* in the list\n",
    "* Calculate the average of the array. *Hint: check out the `sum` function*"
   ]
  },
  {
   "cell_type": "code",
   "execution_count": null,
   "metadata": {},
   "outputs": [],
   "source": [
    "rand_list = [3, 1, 0, 2, 1, 4, 2, 3, 3, 0, 2, 4, 4, 0, 4, 3, 2, 4, 1, 4]"
   ]
  },
  {
   "cell_type": "markdown",
   "metadata": {},
   "source": [
    "# Supplementary exercises\n",
    "## Ex 3.5\n",
    "Assign each element of the array `numbers` defined above to a different variable (i.e. create 5 new variables with values equal to the five elements of the array `numbers`). Try to do it in one line."
   ]
  },
  {
   "cell_type": "code",
   "execution_count": null,
   "metadata": {},
   "outputs": [],
   "source": []
  },
  {
   "cell_type": "markdown",
   "metadata": {},
   "source": [
    "## Ex 3.6\n",
    "Define a tupple containing a single element. Then verify its class\n",
    "* Define it using a Literal expression\n",
    "* Define it using the class initialisation"
   ]
  },
  {
   "cell_type": "code",
   "execution_count": null,
   "metadata": {},
   "outputs": [],
   "source": []
  },
  {
   "cell_type": "code",
   "execution_count": null,
   "metadata": {},
   "outputs": [],
   "source": []
  },
  {
   "cell_type": "markdown",
   "metadata": {},
   "source": [
    "## Ex 3.7\n",
    "We go back to our list `number_range=list(range(n))`. Print the first half of the list (assuming you do not know what the value of `n` is).\n",
    "* Try with an even and an odd value for `n`"
   ]
  },
  {
   "cell_type": "code",
   "execution_count": null,
   "metadata": {},
   "outputs": [],
   "source": []
  }
 ],
 "metadata": {
  "kernelspec": {
   "display_name": "Python 3 (ipykernel)",
   "language": "python",
   "name": "python3"
  },
  "language_info": {
   "codemirror_mode": {
    "name": "ipython",
    "version": 3
   },
   "file_extension": ".py",
   "mimetype": "text/x-python",
   "name": "python",
   "nbconvert_exporter": "python",
   "pygments_lexer": "ipython3",
   "version": "3.12.3"
  }
 },
 "nbformat": 4,
 "nbformat_minor": 4
}
