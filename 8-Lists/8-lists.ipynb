{
 "cells": [
  {
   "cell_type": "markdown",
   "metadata": {},
   "source": [
    "# Exercise 8: Lists\n",
    "\n",
    "Let's rehearse what we learned about lists. Don't forget to print out your results in the nicest way possible, both for clarity and to work on your string formatting!"
   ]
  },
  {
   "cell_type": "markdown",
   "metadata": {},
   "source": [
    "## 8.1 Manipulating lists\n",
    "### Ex. 8.1.1\n",
    "Create a list containing numbers from `0` to `n` (use the `range` function). Then\n",
    "* Add the element `-1` at the beginning of the list\n",
    "* Add the element `n+1` at the end of list\n",
    "* Add elements `n+2` to `n+m` at the end of the list"
   ]
  },
  {
   "cell_type": "code",
   "execution_count": null,
   "metadata": {},
   "outputs": [],
   "source": [
    "n = 10\n",
    "m = 5"
   ]
  },
  {
   "cell_type": "markdown",
   "metadata": {},
   "source": [
    "### Ex. 8.1.2\n",
    "Modify the list `numbers` as follows:\n",
    "* remove the element with value `8`\n",
    "* remove the 3rd element and put it back at the end of the list\n",
    "* change the value of the \"second to last\" (vorletztes) element to `10` (assume you don't know the length of the list)"
   ]
  },
  {
   "cell_type": "code",
   "execution_count": null,
   "metadata": {},
   "outputs": [],
   "source": [
    "numbers = [1, 2, 8, 6, 3, 4, 5]\n",
    "print(numbers)"
   ]
  },
  {
   "cell_type": "code",
   "execution_count": null,
   "metadata": {},
   "outputs": [],
   "source": []
  },
  {
   "cell_type": "code",
   "execution_count": null,
   "metadata": {},
   "outputs": [],
   "source": []
  },
  {
   "cell_type": "code",
   "execution_count": null,
   "metadata": {},
   "outputs": [],
   "source": []
  },
  {
   "cell_type": "markdown",
   "metadata": {},
   "source": [
    "### Ex. 8.1.3\n",
    "Create a list containing the squares of the elements of `l1` (use a for loop). Then sort the list in descending order."
   ]
  },
  {
   "cell_type": "code",
   "execution_count": null,
   "metadata": {},
   "outputs": [],
   "source": [
    "l1 = [3, 2, 9, 1]"
   ]
  },
  {
   "cell_type": "code",
   "execution_count": null,
   "metadata": {},
   "outputs": [],
   "source": []
  },
  {
   "cell_type": "markdown",
   "metadata": {},
   "source": [
    "### Ex. 8.1.4\n",
    "Below I created a list `data` of random values drawn from a Gaussian distribution. Find its median (Reminder: the median is the value for which 50% of the values in the data are above it and 50% are below.)"
   ]
  },
  {
   "cell_type": "code",
   "execution_count": null,
   "metadata": {},
   "outputs": [],
   "source": [
    "import random\n",
    "n_data = 1001\n",
    "mu = 2\n",
    "sigma = 3\n",
    "data = [random.gauss(mu, sigma) for i in range(n_data)]"
   ]
  },
  {
   "cell_type": "code",
   "execution_count": null,
   "metadata": {},
   "outputs": [],
   "source": []
  },
  {
   "cell_type": "markdown",
   "metadata": {},
   "source": [
    "### Ex. 8.1.5\n",
    "In the list below, replace every occurence of `\"pi\"` by `3.14`. To assign a new value to an element of a list, use indexing e.g. `angles[i] = 3.14`."
   ]
  },
  {
   "cell_type": "code",
   "execution_count": null,
   "metadata": {},
   "outputs": [],
   "source": [
    "angles = [1.3, \"pi\", -0.1, \"pi\"]"
   ]
  },
  {
   "cell_type": "code",
   "execution_count": null,
   "metadata": {},
   "outputs": [],
   "source": []
  },
  {
   "cell_type": "markdown",
   "metadata": {},
   "source": [
    "## 8.2 Nested Lists\n",
    "### Ex. 8.2.1: Predictive power of Phil the groundhog\n",
    "Below we have the data from 22 years of the groundhog day in Punxsutawney. Tradition is that if Phil (the groundhog) sees his shadow, winter will last 6 more weeks, otherwise it will be early spring. `data` has 22 rows and 3 columns. First column is the year, second is whether Phil saw his shadow or not, and third the average temperature of February of that year.\n",
    "* Split the data into two lists, one containing the temperatures for the years with `No shadow` and one for the years with `Full Shadow`\n",
    "* Calculate and print the average temperature for these two lists (you can use a for loop, or simply the `sum` function)"
   ]
  },
  {
   "cell_type": "code",
   "execution_count": null,
   "metadata": {},
   "outputs": [],
   "source": [
    "data = [[1995, \"No Shadow\", 37.36],\n",
    "        [1996, \"Full Shadow\", 35.69],\n",
    "        [1997, \"No Shadow\", 36.05],\n",
    "        [1998, \"Full Shadow\", 38.71],\n",
    "        [1999, \"No Shadow\", 39.49],\n",
    "        [2000, \"Full Shadow\", 39.78],\n",
    "        [2001, \"Full Shadow\", 33.98],\n",
    "        [2002, \"Full Shadow\", 36.39],\n",
    "        [2003, \"Full Shadow\", 32.79],\n",
    "        [2004, \"Full Shadow\", 33.57],\n",
    "        [2005, \"Full Shadow\", 37.94],\n",
    "        [2006, \"Full Shadow\", 34.83],\n",
    "        [2007, \"No Shadow\", 32.41],\n",
    "        [2008, \"Full Shadow\", 34.7],\n",
    "        [2009, \"Full Shadow\", 36.77],\n",
    "        [2010, \"Full Shadow\", 31.8],\n",
    "        [2011, \"No Shadow\", 33.04],\n",
    "        [2012, \"Full Shadow\", 37.51],\n",
    "        [2013, \"No Shadow\", 34.77],\n",
    "        [2014, \"Full Shadow\", 32.13],\n",
    "        [2015, \"Full Shadow\", 32.99],\n",
    "        [2016, \"No Shadow\", 39.47],\n",
    "       ]\n",
    "no_shadow = []\n",
    "shadow = []"
   ]
  },
  {
   "cell_type": "code",
   "execution_count": null,
   "metadata": {},
   "outputs": [],
   "source": []
  },
  {
   "cell_type": "markdown",
   "metadata": {},
   "source": [
    "# Supplementary exercises"
   ]
  },
  {
   "cell_type": "markdown",
   "metadata": {},
   "source": [
    "### Ex. 8.2.2\n",
    "We have a `table` of measurements with 4 rows and 2 columns. The first column is the number of times a given\n",
    "measurement occured, while the second column is the value of that measurement. Calculate the average value of the measurements (taking into account the number of times each measurement occured)."
   ]
  },
  {
   "cell_type": "code",
   "execution_count": null,
   "metadata": {},
   "outputs": [],
   "source": [
    "table = [[2, 1.2], [5, 3.8], [1, 5.6], [3, -1.8]]"
   ]
  },
  {
   "cell_type": "code",
   "execution_count": null,
   "metadata": {},
   "outputs": [],
   "source": []
  },
  {
   "cell_type": "markdown",
   "metadata": {},
   "source": [
    "### Ex. 8.2.3\n",
    "\n",
    "We have a pool of teams from different countries. Every team should play every other team once. \n",
    "\n",
    "* Generate the list of `games` (every game is itself a list containing the names of the two teams).\n",
    "* Iterate over the `games` list and print out every game in the format *team1 vs team2*\n",
    "* print out every game in a format where each team is on a separate line, and games are separated by 2 blank lines (use a nested for loop). *HINT: the new line escape sequence is `\"\\n\"`*"
   ]
  },
  {
   "cell_type": "code",
   "execution_count": null,
   "metadata": {},
   "outputs": [],
   "source": [
    "teams = [\"France\", \"Germany\", \"Switzerland\", \"Spain\"]"
   ]
  },
  {
   "cell_type": "code",
   "execution_count": null,
   "metadata": {
    "scrolled": true
   },
   "outputs": [],
   "source": []
  },
  {
   "cell_type": "code",
   "execution_count": null,
   "metadata": {},
   "outputs": [],
   "source": []
  },
  {
   "cell_type": "markdown",
   "metadata": {},
   "source": [
    "## Ex. 8.3\n",
    "From the list below, create a non-redundant list, containing every value present in `non_unique` only once."
   ]
  },
  {
   "cell_type": "code",
   "execution_count": null,
   "metadata": {},
   "outputs": [],
   "source": [
    "non_unique = [1, 3, 5, 8, 2, 1, 4, 3, 2, 1]"
   ]
  },
  {
   "cell_type": "code",
   "execution_count": null,
   "metadata": {},
   "outputs": [],
   "source": []
  },
  {
   "cell_type": "markdown",
   "metadata": {},
   "source": [
    "## Ex. 8.4\n",
    "Add elements of `l2` into `l1`, but grouping them by value, i.e. if the element from `l2` is already present in `l1`, add it next to it, otherwise simply add it at the end (remember you can get the position of an element with a certain value using `list.index(value)`)."
   ]
  },
  {
   "cell_type": "code",
   "execution_count": null,
   "metadata": {},
   "outputs": [],
   "source": [
    "l1 = [1, 3, 4, 8]\n",
    "l2 = [2, 4, 2, 6, 8, 4]"
   ]
  },
  {
   "cell_type": "code",
   "execution_count": null,
   "metadata": {},
   "outputs": [],
   "source": []
  },
  {
   "cell_type": "markdown",
   "metadata": {},
   "source": [
    "## Ex. 8.5\n",
    "Sort the words in this comma-separated list of words (i.e return a string of comma separated words that are alphabetically sorted), print the result."
   ]
  },
  {
   "cell_type": "code",
   "execution_count": null,
   "metadata": {},
   "outputs": [],
   "source": [
    "words = \"cheese, spam, egg, spam, bacon, spam\""
   ]
  },
  {
   "cell_type": "code",
   "execution_count": null,
   "metadata": {},
   "outputs": [],
   "source": []
  },
  {
   "cell_type": "markdown",
   "metadata": {},
   "source": [
    "## Ex. 8.6\n",
    "Imagine you have read in the data from a csv file as a string. This is a table with two columns and 10 rows. The first column represents a categorical feature `factor` and the second column a numerical feature `value`.\n",
    "* Parse the data and put it in a list containing two lists, one for each column\n",
    "* Calculate the difference in the averages relative to the categorical feature ($\\mu_1-\\mu_2$, where $\\mu_1$ is the average `value` when `factor` is $0$ and $\\mu_2$ when the `factor` is $1$).\n",
    "* Calculate the variance of each group ($\\sigma_1$ and $\\sigma_2$)\n",
    "* Estimate the t-statistic $\\frac{\\mu_1-\\mu_2}{((\\sigma_1^2+\\sigma_2^2)/n)^{0.5}}$, $n$ being the total number of observations"
   ]
  },
  {
   "cell_type": "code",
   "execution_count": null,
   "metadata": {},
   "outputs": [],
   "source": [
    "data_str = \"factor, value\\n 1, 58.4 \\n 0, 43.2\\n 0, 50.0\\n 1, 62.4\\n 1, 58.4\\n\" +\\\n",
    "            \"0, 53.2 \\n 1, 59.7\\n 1, 52.9\\n 1, 49.4\\n 0, 52.4\""
   ]
  },
  {
   "cell_type": "code",
   "execution_count": null,
   "metadata": {},
   "outputs": [],
   "source": []
  }
 ],
 "metadata": {
  "kernelspec": {
   "display_name": "Python 3 (ipykernel)",
   "language": "python",
   "name": "python3"
  },
  "language_info": {
   "codemirror_mode": {
    "name": "ipython",
    "version": 3
   },
   "file_extension": ".py",
   "mimetype": "text/x-python",
   "name": "python",
   "nbconvert_exporter": "python",
   "pygments_lexer": "ipython3",
   "version": "3.12.3"
  }
 },
 "nbformat": 4,
 "nbformat_minor": 4
}
