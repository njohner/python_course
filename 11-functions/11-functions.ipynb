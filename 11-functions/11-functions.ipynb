{
 "cells": [
  {
   "cell_type": "markdown",
   "metadata": {},
   "source": [
    "# Exercises 11: Functions"
   ]
  },
  {
   "cell_type": "markdown",
   "metadata": {},
   "source": [
    "With functions, we can start to organise our code in functional units. This allows to make code more readable, easier to maintain and possible to reuse.\n",
    "\n",
    "Typically there will be 2 python cells for a question, use the first one to define your function. The second one is used to test the function and print the results and is sometimes provided."
   ]
  },
  {
   "cell_type": "markdown",
   "metadata": {},
   "source": [
    "## Ex. 11.1\n",
    "We start by defining some simple functions."
   ]
  },
  {
   "cell_type": "markdown",
   "metadata": {},
   "source": [
    "### Ex. 11.1.1\n",
    "#### Ex. 11.1.1 a\n",
    "Write a function `vector_average` with one parameter `data_vector`, that returns the average of `data_vector` (which is a list or an iteratable object). Then test it on `v1` defined below. "
   ]
  },
  {
   "cell_type": "code",
   "execution_count": null,
   "metadata": {},
   "outputs": [],
   "source": []
  },
  {
   "cell_type": "code",
   "execution_count": null,
   "metadata": {},
   "outputs": [],
   "source": [
    "v1 = [1, 2, 1, 3, 2, 1]"
   ]
  },
  {
   "cell_type": "markdown",
   "metadata": {},
   "source": [
    "#### Ex. 11.1.1 b\n",
    "Add a docstring to `vector_average` and test it (call `help` on your function). Then look at `vector_average.__doc__`"
   ]
  },
  {
   "cell_type": "code",
   "execution_count": null,
   "metadata": {},
   "outputs": [],
   "source": []
  },
  {
   "cell_type": "code",
   "execution_count": null,
   "metadata": {},
   "outputs": [],
   "source": []
  },
  {
   "cell_type": "code",
   "execution_count": null,
   "metadata": {},
   "outputs": [],
   "source": []
  },
  {
   "cell_type": "markdown",
   "metadata": {},
   "source": [
    "### Ex. 11.1.2\n",
    "* Write a function `squared_difference` which takes two parameters `xi` and `yi` and returns the square of their difference $(xi-yi)^2$.\n",
    "* Test your function on a few examples"
   ]
  },
  {
   "cell_type": "code",
   "execution_count": null,
   "metadata": {},
   "outputs": [],
   "source": []
  },
  {
   "cell_type": "code",
   "execution_count": null,
   "metadata": {},
   "outputs": [],
   "source": []
  },
  {
   "cell_type": "markdown",
   "metadata": {},
   "source": [
    "## Ex. 11.2 Scoping\n",
    "A function has of course access to variables of its local namespace, but also of the enclosing and global namespaces. When trying to resolve a variable name, resolution order is local, enclosing, global, built-in namespaces. Therefore, a function defined in this notebook has access to other functions defined earlier in the notebook."
   ]
  },
  {
   "cell_type": "markdown",
   "metadata": {},
   "source": [
    "### Ex. 11.2.1\n",
    "Write a function `standard_deviation` to calculate the standard deviation of a list (i.e. $\\left(\\frac{\\sum_{i=0}^{n-1}(v_i-\\mu)^2}{n-1}\\right)^{0.5}$ where $\\mu$ is the average of the list and $v_i$ are the elements of the list.). The `standard_deviation` function should have one parameter `data_vector` and can make used of the previously defined `vector_aveerage` and `squared_difference` functions. Then test it on v1 (defined above)."
   ]
  },
  {
   "cell_type": "code",
   "execution_count": null,
   "metadata": {},
   "outputs": [],
   "source": []
  },
  {
   "cell_type": "code",
   "execution_count": null,
   "metadata": {},
   "outputs": [],
   "source": []
  },
  {
   "cell_type": "markdown",
   "metadata": {},
   "source": [
    "### Ex. 11.2.2\n",
    "We now modify the `standard_deviation` to include a second argument `average` with a default value of `None`.\n",
    "If a value for `average` is passed when calling `standard_deviation`, this is used as the average for the calculation of the standard deviation, otherwise the average is determined as before.\n",
    "\n",
    "Test it with and without passing the `average` parameter."
   ]
  },
  {
   "cell_type": "code",
   "execution_count": null,
   "metadata": {
    "tags": []
   },
   "outputs": [],
   "source": []
  },
  {
   "cell_type": "code",
   "execution_count": null,
   "metadata": {
    "tags": []
   },
   "outputs": [],
   "source": []
  },
  {
   "cell_type": "markdown",
   "metadata": {},
   "source": [
    "## Ex. 11.3 Modifying mutables in a function\n",
    "### Ex. 11.3.1\n",
    "Now write a function `center` that has one parameter `data_vector`. The function should remove the average of `data_vector` from every element of `data_vector`. Assume `data_vector` is mutable (e.g. it's a list)."
   ]
  },
  {
   "cell_type": "code",
   "execution_count": null,
   "metadata": {},
   "outputs": [],
   "source": []
  },
  {
   "cell_type": "code",
   "execution_count": null,
   "metadata": {},
   "outputs": [],
   "source": []
  },
  {
   "cell_type": "markdown",
   "metadata": {},
   "source": [
    "# Supplementary"
   ]
  },
  {
   "cell_type": "markdown",
   "metadata": {
    "tags": []
   },
   "source": [
    "## Ex. 11.4 Mutables as defaults\n",
    "Default values for function parameters are stored in the function-object when the function is defined. You can find them in the `__defaults__` attribute. Write a function with two parameters, the second one being a list defaulting to an empty list. \n",
    "The function should append the first argument to the list. \n",
    "* Try out the function thouroughly.\n",
    "* Does it behave as expected? \n",
    "* What happens to the default argument?\n",
    "* How would you fix it?"
   ]
  },
  {
   "cell_type": "code",
   "execution_count": null,
   "metadata": {
    "tags": []
   },
   "outputs": [],
   "source": []
  },
  {
   "cell_type": "markdown",
   "metadata": {
    "tags": []
   },
   "source": [
    "## Ex. 11.5 Line fit\n",
    "In this exercise we will write a very simple function to find the best fit line to a set of points.\n",
    "### Ex. 11.5.1\n",
    "We start by writing a function to compute the mean squared error between two lists, i.e. the sum of the residues: $MSE = \\frac{1}{n}\\sum_{i=1}^{n}(x_i-y_i)^2$\n",
    "- Define the function `mean_squared_error` taking two vectors `vec1` and `vec2` as parameters\n",
    "- Test it on a few examples\n",
    "*HINT:* Remember the `zip` function to iterate over two lists at the same time"
   ]
  },
  {
   "cell_type": "code",
   "execution_count": null,
   "metadata": {},
   "outputs": [],
   "source": []
  },
  {
   "cell_type": "code",
   "execution_count": null,
   "metadata": {},
   "outputs": [],
   "source": [
    "x = [1, 2, 3]\n",
    "y = [2, 2, 2]"
   ]
  },
  {
   "cell_type": "markdown",
   "metadata": {},
   "source": [
    "### Ex. 11.5.2\n",
    "#### Ex. 11.5.2a\n",
    "We will now write a very basic optimization method using simple brute force to calculate a best fit line. The `brute_force_line_fit` method should have two parameters `x` and `y`. It should search the best fit parameters `a` and `b` so that the MSE between the prediction $a*x + b$ and $y$ is as small as possible. The function can simply use as search space all integers between -10 and 10 both for $a$ and for $b$. It should return the optimal values for $a$ and $b$ as well as the corresponding MSE."
   ]
  },
  {
   "cell_type": "code",
   "execution_count": null,
   "metadata": {},
   "outputs": [],
   "source": [
    "     "
   ]
  },
  {
   "cell_type": "markdown",
   "metadata": {},
   "source": [
    "#### Ex. 11.5.2b\n",
    "Test the `brute_force_line_fit` function on the follwing $x$ and $y$ data that I have prepared."
   ]
  },
  {
   "cell_type": "code",
   "execution_count": null,
   "metadata": {},
   "outputs": [],
   "source": [
    "x = range(0, 10)\n",
    "a = 2.1\n",
    "b = 3.2\n",
    "y = []\n",
    "for xi in x:\n",
    "    y.append(a*xi +b)"
   ]
  },
  {
   "cell_type": "code",
   "execution_count": null,
   "metadata": {},
   "outputs": [],
   "source": []
  },
  {
   "cell_type": "markdown",
   "metadata": {},
   "source": [
    "## Ex. 11.6 `*args` and `**kwargs`\n",
    "We will have a lookat the `*args` and `**kwargs` syntax. There are supplementary slides dealing with this in the course.\n",
    "Here is a quick review of the syntax"
   ]
  },
  {
   "cell_type": "code",
   "execution_count": null,
   "metadata": {},
   "outputs": [],
   "source": [
    "def print_arguments(x, *args, y=2, **kwargs):\n",
    "    \"\"\"prints the passed arguments\"\"\"\n",
    "    print(\"x\", x)\n",
    "    print(\"y\", y)\n",
    "    print(\"args\", args)\n",
    "    print(\"kwargs\", kwargs)\n",
    "\n",
    "print_arguments(1, 2, y=3, z=4)  # x=1, args=(2,), y=3, kwargs={\"z\":4}\n",
    "print_arguments(*[1 ,2], **{'y':3, 'z':4})  # x=1, args=(2,), y=3, kwargs={\"z\":4}"
   ]
  },
  {
   "cell_type": "markdown",
   "metadata": {},
   "source": [
    "Now let's try to understand how the `*` and `**` syntax works.\n",
    "### Ex. 11.6.1\n",
    "We have a list `l1` and we want to print the elements of the list, but not the list itself. We could do `print(l1[0], l1[1], l1[2])` but that is not very practical, especially if we don't know how long the list is. Use the `*` syntax instead. Do you see the difference with simply printing the list (i.e. `print(l1)` )"
   ]
  },
  {
   "cell_type": "code",
   "execution_count": null,
   "metadata": {},
   "outputs": [],
   "source": [
    "l1 = [1, 2, 3, 4, 5]"
   ]
  },
  {
   "cell_type": "code",
   "execution_count": null,
   "metadata": {},
   "outputs": [],
   "source": []
  },
  {
   "cell_type": "markdown",
   "metadata": {},
   "source": [
    "### Ex. 11.6.2\n",
    "Now write a function `print_args` that takes any number of arguments and prints each one of them (loop through all the arguments and print each one)."
   ]
  },
  {
   "cell_type": "code",
   "execution_count": null,
   "metadata": {},
   "outputs": [],
   "source": []
  },
  {
   "cell_type": "code",
   "execution_count": null,
   "metadata": {},
   "outputs": [],
   "source": []
  },
  {
   "cell_type": "markdown",
   "metadata": {},
   "source": [
    "### Ex. 11.6.3\n",
    "The plotting function from matplotlib is very flexible, as such it takes any number of positional and keyword arguments. Positional arguments are used to define the data to be plotted and keyword arguments for controlling many aspects of the plot.\n",
    "\n",
    "We put our favorite plot options in a dictionary `prop_dict`. Modify the `plt.plot` method call below to pass it all the *keyword:value* pairs defined in `prop_dict` as keyword arguments."
   ]
  },
  {
   "cell_type": "code",
   "execution_count": null,
   "metadata": {},
   "outputs": [],
   "source": [
    "%matplotlib inline\n",
    "import matplotlib.pyplot as plt\n",
    "x = [1, 2, 3, 4, 5]\n",
    "y = [1, 2, 4, 2, 1]\n",
    "prop_dict = {\"linestyle\": \":\", \"color\": \"r\", \"markersize\": 10, \"marker\": \"x\"}\n",
    "plt.figure()\n",
    "plt.plot(x, y)\n",
    "# should be equivalent to plt.plot(x, y, linestyle = \":\", color: \"r\", markersize=10, marker=\"x\")\n",
    "plt.show()"
   ]
  },
  {
   "cell_type": "markdown",
   "metadata": {},
   "source": [
    "### Ex. 11.6.4\n",
    "Now write a function `print_kwargs` that takes in any number of keyword arguments and prints out each of them in the form `keyword = value`"
   ]
  },
  {
   "cell_type": "code",
   "execution_count": null,
   "metadata": {},
   "outputs": [],
   "source": []
  },
  {
   "cell_type": "code",
   "execution_count": null,
   "metadata": {},
   "outputs": [],
   "source": []
  },
  {
   "cell_type": "markdown",
   "metadata": {},
   "source": [
    "## Ex. 11.7 Whetting your appetite\n",
    "Define a function `transform_list` similar to the one in **Ex. 11.3.1** but that applies a provided transformation to every element in the list. Specifically, the function should take 2 arguments, the list that should be transformed and a function that will be applied to every element of the list.\n",
    "* To test your function you would need to define a transformation. For example define a function that adds a specific value to its input. You can then pass that as transformation to `transform_list`.\n",
    "\n",
    "This is not very practical as we would still need to define a specific transformation function to use our `transform_list` function. For example if we want to remove the average from two different vectors, we'd have to define a specific transform that substracts the average for each vector. The solution to this in python is a *lambda* function. We will talk about *lambdas* in an upcoming lecture."
   ]
  },
  {
   "cell_type": "code",
   "execution_count": null,
   "metadata": {},
   "outputs": [],
   "source": []
  },
  {
   "cell_type": "code",
   "execution_count": null,
   "metadata": {},
   "outputs": [],
   "source": []
  }
 ],
 "metadata": {
  "kernelspec": {
   "display_name": "Python 3 (ipykernel)",
   "language": "python",
   "name": "python3"
  },
  "language_info": {
   "codemirror_mode": {
    "name": "ipython",
    "version": 3
   },
   "file_extension": ".py",
   "mimetype": "text/x-python",
   "name": "python",
   "nbconvert_exporter": "python",
   "pygments_lexer": "ipython3",
   "version": "3.12.3"
  }
 },
 "nbformat": 4,
 "nbformat_minor": 4
}
