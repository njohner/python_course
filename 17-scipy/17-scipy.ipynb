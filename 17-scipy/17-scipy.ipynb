{
 "cells": [
  {
   "cell_type": "markdown",
   "metadata": {},
   "source": [
    "# Exercises 17: scipy\n",
    "Let's use scipy's optimization module to fit functions to some data.\n",
    "\n",
    "As in the last exercises, we will work with the Diabetes progression dataset. We will also be using matplotlib and numpy, which are essential when working with data. Let's import them below and make sure plots get displayed inline in this notebook:"
   ]
  },
  {
   "cell_type": "code",
   "execution_count": null,
   "metadata": {},
   "outputs": [],
   "source": [
    "%matplotlib inline\n",
    "import numpy as np\n",
    "import matplotlib as mpl\n",
    "import matplotlib.pyplot as plt\n",
    "from sklearn.datasets import load_diabetes\n",
    "try:\n",
    "    diabetes = load_diabetes(scaled=False)\n",
    "except:\n",
    "    diabetes = load_diabetes()\n",
    "    diabetes.data[:,1] = np.where(diabetes.data[:,1] > 0, 2, 1)"
   ]
  },
  {
   "cell_type": "markdown",
   "metadata": {},
   "source": [
    "## Exercise 17.1\n",
    "### Exercise 17.1.1\n",
    "As we saw in Ex. 16.1.5, `s3` is highly correlated to `s4`. Try to fit the function `exponential` I defined for you below to `s3` vs `s4`, using the `scipy.optimize.curve_fit` function. Then plot the data and the fitted function."
   ]
  },
  {
   "cell_type": "code",
   "execution_count": null,
   "metadata": {},
   "outputs": [],
   "source": [
    "from scipy import optimize\n",
    "\n",
    "def exponential(x, a, b, c): \n",
    "    return a * np.exp(- 0.01 * b * x) + c"
   ]
  },
  {
   "cell_type": "code",
   "execution_count": null,
   "metadata": {},
   "outputs": [],
   "source": []
  },
  {
   "cell_type": "code",
   "execution_count": null,
   "metadata": {},
   "outputs": [],
   "source": []
  },
  {
   "cell_type": "markdown",
   "metadata": {},
   "source": [
    "### Exercise 17.1.2\n",
    "Now let's look at `bmi` and the disease progression, which have a decent positive correlation. As above, use `scipy.optimize.curve_fit` to fit a function to the data, but this time fit a simple line. Then plot the data with the fitted line"
   ]
  },
  {
   "cell_type": "code",
   "execution_count": null,
   "metadata": {},
   "outputs": [],
   "source": []
  },
  {
   "cell_type": "code",
   "execution_count": null,
   "metadata": {},
   "outputs": [],
   "source": []
  },
  {
   "cell_type": "markdown",
   "metadata": {},
   "source": [
    "# Supplementary\n",
    "We will now do some clustering with scipy. For these you will need to look at the supplementary slides\n",
    "\n",
    "## Exercise 17.2\n",
    "In our dataset there is one categorical variable (`\"sex\"`). We will use all the other features for clustering, generate 2 clusters and then look at them.\n",
    "### Exercise 17.2.1\n",
    "Use kmeans clustering (`scipy.cluster.vq.kmeans2`) to generate 2 clusters from all the features except `\"sex\"`. "
   ]
  },
  {
   "cell_type": "code",
   "execution_count": null,
   "metadata": {},
   "outputs": [],
   "source": []
  },
  {
   "cell_type": "markdown",
   "metadata": {},
   "source": [
    "### Exercise 17.2.2\n",
    "Now make a plot of the disease progression (y-axis) as a function of the `\"sex\"` feature, but with each cluster plotted with its own marker and color (you can use a mask for that).\n",
    "\n",
    "Are the clusters well separated on these variables?"
   ]
  },
  {
   "cell_type": "code",
   "execution_count": null,
   "metadata": {},
   "outputs": [],
   "source": []
  },
  {
   "cell_type": "markdown",
   "metadata": {},
   "source": [
    "### Exercise 17.2.3\n",
    "Now make a plot of `\"s3\"` (y-axis) as a function of the `\"s1\"` feature, but with each cluster plotted with its own marker and color as above.\n",
    "\n",
    "Are the clusters well separated on these two variable?"
   ]
  },
  {
   "cell_type": "code",
   "execution_count": null,
   "metadata": {},
   "outputs": [],
   "source": []
  },
  {
   "cell_type": "code",
   "execution_count": null,
   "metadata": {},
   "outputs": [],
   "source": []
  }
 ],
 "metadata": {
  "kernelspec": {
   "display_name": "Python 3 (ipykernel)",
   "language": "python",
   "name": "python3"
  },
  "language_info": {
   "codemirror_mode": {
    "name": "ipython",
    "version": 3
   },
   "file_extension": ".py",
   "mimetype": "text/x-python",
   "name": "python",
   "nbconvert_exporter": "python",
   "pygments_lexer": "ipython3",
   "version": "3.12.3"
  }
 },
 "nbformat": 4,
 "nbformat_minor": 4
}
