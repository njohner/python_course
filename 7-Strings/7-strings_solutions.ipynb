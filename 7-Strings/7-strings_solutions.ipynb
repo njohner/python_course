{
 "cells": [
  {
   "cell_type": "markdown",
   "metadata": {},
   "source": [
    "# Exercise 7: Strings\n",
    "\n",
    "Let's rehearse what we learned about strings"
   ]
  },
  {
   "cell_type": "markdown",
   "metadata": {},
   "source": [
    "## 7.1 Defining strings\n",
    "### Ex. 7.1.1\n",
    "Define the following strings and print them:\n",
    "* `He said: \"Now that's annoying!\"`.\n",
    "* `c:\\test\\name`"
   ]
  },
  {
   "cell_type": "code",
   "execution_count": null,
   "metadata": {},
   "outputs": [],
   "source": [
    "print(\"\"\"He said: \"Now that's annoying!\".\"\"\")\n",
    "print(\"He said: \\\"Now that's annoying!\\\".\")\n",
    "print(\"c:\\\\test\\\\name\")\n",
    "print(r\"c:\\test\\name\")"
   ]
  },
  {
   "cell_type": "markdown",
   "metadata": {},
   "source": [
    "### Ex. 7.1.2\n",
    "Define a multi line string and print it. Try to find 2 ways of doing this (*Hint: \"\\n\" is the escape sequence for a line break*)."
   ]
  },
  {
   "cell_type": "code",
   "execution_count": null,
   "metadata": {},
   "outputs": [],
   "source": [
    "multi_line = \"line\\nbreak\"\n",
    "print(multi_line)"
   ]
  },
  {
   "cell_type": "code",
   "execution_count": null,
   "metadata": {},
   "outputs": [],
   "source": [
    "multi_line = \"\"\"line\n",
    "break\"\"\"\n",
    "print(multi_line)"
   ]
  },
  {
   "cell_type": "markdown",
   "metadata": {},
   "source": [
    "## 7.2 String formating and manipulation\n",
    "### Ex. 7.2.1: formatted strings\n",
    "#### Ex. 7.2.1 a"
   ]
  },
  {
   "cell_type": "code",
   "execution_count": null,
   "metadata": {},
   "outputs": [],
   "source": [
    "userid = \"niklaus.johner\"\n",
    "membership_type = \"gold\"\n",
    "message = userid + \" you are logged in as a \" + membership_type + \" member.\"\n",
    "print(message)"
   ]
  },
  {
   "cell_type": "markdown",
   "metadata": {},
   "source": [
    "Redefine `message` using a formatted string. This will give cleaner, more readable code."
   ]
  },
  {
   "cell_type": "code",
   "execution_count": null,
   "metadata": {},
   "outputs": [],
   "source": [
    "message = \"{} you are logged in as a {} member.\".format(userid, membership_type)\n",
    "print(message)"
   ]
  },
  {
   "cell_type": "code",
   "execution_count": null,
   "metadata": {},
   "outputs": [],
   "source": [
    "message = f\"{userid} you are logged in as a {membership_type} member.\"\n",
    "print(message)"
   ]
  },
  {
   "cell_type": "markdown",
   "metadata": {},
   "source": [
    "#### Ex. 7.2.1 b\n",
    "Use a formatted string to replace the arguments of the print function by a single string in the code below"
   ]
  },
  {
   "cell_type": "code",
   "execution_count": null,
   "metadata": {},
   "outputs": [],
   "source": [
    "names = [\"Peter\", \"Jane\", \"Fred\"]\n",
    "ages = [31, 35, 4]\n",
    "for name, age in zip(names, ages):\n",
    "    print(name, \"is\", age, \"years old.\")"
   ]
  },
  {
   "cell_type": "code",
   "execution_count": null,
   "metadata": {},
   "outputs": [],
   "source": [
    "for name, age in zip(names, ages):\n",
    "    print(f\"{name} is {age} years old.\")"
   ]
  },
  {
   "cell_type": "code",
   "execution_count": null,
   "metadata": {},
   "outputs": [],
   "source": [
    "message = \"{} is {} years old.\"\n",
    "for name, age in zip(names, ages):\n",
    "    print(message.format(name, age))"
   ]
  },
  {
   "cell_type": "markdown",
   "metadata": {},
   "source": [
    "### Ex. 7.2.2\n",
    "For the following string:\n",
    "* Find the position of the `.` in the string.\n",
    "* use that information to print only the first sentence\n",
    "* replace \"hate\" with \"love\", and print the resulting string\n",
    "* replace \"hate\" as above and also replace \"dull\" with \"nice\""
   ]
  },
  {
   "cell_type": "code",
   "execution_count": null,
   "metadata": {},
   "outputs": [],
   "source": [
    "sentences = \"I hate rain. It's so dull!\""
   ]
  },
  {
   "cell_type": "code",
   "execution_count": null,
   "metadata": {},
   "outputs": [],
   "source": [
    "point_index = sentences.find(\".\")\n",
    "print(sentences[:point_index + 1])\n",
    "print(sentences.replace(\"hate\", \"love\"))\n",
    "print(sentences.replace(\"hate\", \"love\").replace(\"dull\", \"nice\"))"
   ]
  },
  {
   "cell_type": "markdown",
   "metadata": {},
   "source": [
    "### Ex 7.2.3\n",
    "For the following list of strings:\n",
    "* print all the strings that contain \"and\" (use a for loop)"
   ]
  },
  {
   "cell_type": "code",
   "execution_count": null,
   "metadata": {},
   "outputs": [],
   "source": [
    "str_list = [\"hand\", \"Candy\", \"Calvin & Hobbs\"]"
   ]
  },
  {
   "cell_type": "code",
   "execution_count": null,
   "metadata": {},
   "outputs": [],
   "source": [
    "for el in str_list:\n",
    "    if \"and\" in el:\n",
    "        print(el)"
   ]
  },
  {
   "cell_type": "markdown",
   "metadata": {},
   "source": [
    "### Ex. 7.2.4\n",
    "Transform the following data into a string with comma separated values. This could for example be the first step to write out a csv file from some data"
   ]
  },
  {
   "cell_type": "code",
   "execution_count": null,
   "metadata": {},
   "outputs": [],
   "source": [
    "data = [\"1.3\", \"2.4\", \"-0.1\"]"
   ]
  },
  {
   "cell_type": "code",
   "execution_count": null,
   "metadata": {},
   "outputs": [],
   "source": [
    "line = \", \".join(data)\n",
    "print(line)"
   ]
  },
  {
   "cell_type": "markdown",
   "metadata": {},
   "source": [
    "## 7.3 String parsing\n",
    "### Ex. 7.3.1\n",
    "Separate each of the following strings into a list of words"
   ]
  },
  {
   "cell_type": "code",
   "execution_count": null,
   "metadata": {},
   "outputs": [],
   "source": [
    "spaces=\"Space separated words\"\n",
    "commas=\"Comma,separated,words\""
   ]
  },
  {
   "cell_type": "code",
   "execution_count": null,
   "metadata": {},
   "outputs": [],
   "source": [
    "print(spaces.split())\n",
    "print(commas.split(\",\"))"
   ]
  },
  {
   "cell_type": "markdown",
   "metadata": {},
   "source": [
    "### Ex. 7.3.2\n",
    "Imagine you have read some data from a file and it is now a string of coma separated values. Calculate the average of these values."
   ]
  },
  {
   "cell_type": "code",
   "execution_count": null,
   "metadata": {},
   "outputs": [],
   "source": [
    "values = \"1.3, 2.4, 0.1, 3.8\""
   ]
  },
  {
   "cell_type": "code",
   "execution_count": null,
   "metadata": {},
   "outputs": [],
   "source": [
    "values = values.split(\",\")\n",
    "print(values)\n",
    "tot = 0\n",
    "for el in values:\n",
    "    tot += float(el)\n",
    "print(\"average =\", tot / len(values))"
   ]
  },
  {
   "cell_type": "markdown",
   "metadata": {},
   "source": [
    "# Supplementary Exercises\n",
    "\n",
    "For these exercises you will need to have a look at the supplementary slides and/or at the reminder notebook"
   ]
  },
  {
   "cell_type": "markdown",
   "metadata": {},
   "source": [
    "## Ex. 7.4\n",
    "Adjust the following strings to print them justified to the right"
   ]
  },
  {
   "cell_type": "code",
   "execution_count": null,
   "metadata": {},
   "outputs": [],
   "source": [
    "string_list = [\"short\", \"much longer string\", \"intermediate\"]"
   ]
  },
  {
   "cell_type": "code",
   "execution_count": null,
   "metadata": {},
   "outputs": [],
   "source": [
    "max_len = 0\n",
    "for el in string_list:\n",
    "    if len(el) > max_len:\n",
    "        max_len = len(el)\n",
    "\n",
    "for el in string_list:\n",
    "    print(el.rjust(max_len))"
   ]
  },
  {
   "cell_type": "markdown",
   "metadata": {},
   "source": [
    "## Ex. 7.5\n",
    "For every integer between `1` and `n`, print `5/n` to a precision of 3 digits. (see supplementary slides for how to specify formatting options)"
   ]
  },
  {
   "cell_type": "code",
   "execution_count": null,
   "metadata": {},
   "outputs": [],
   "source": [
    "n = 10\n",
    "for i in range(1, n + 1):\n",
    "    print(\"{:.3}\".format(5 / i))"
   ]
  },
  {
   "cell_type": "markdown",
   "metadata": {},
   "source": [
    "## Ex. 7.6\n",
    "Now print the following floats so that they are aligned on the dot."
   ]
  },
  {
   "cell_type": "code",
   "execution_count": null,
   "metadata": {},
   "outputs": [],
   "source": [
    "data = [3.141519, 3.21, 200.3]"
   ]
  },
  {
   "cell_type": "code",
   "execution_count": null,
   "metadata": {},
   "outputs": [],
   "source": [
    "max_before = 0\n",
    "max_after = 0\n",
    "for num in data:\n",
    "    s = str(num)\n",
    "    dot_pos = s.find(\".\")\n",
    "    if dot_pos > max_before:\n",
    "        max_before = dot_pos\n",
    "    if len(s) - dot_pos -1 > max_after:\n",
    "        max_after = len(s) - dot_pos - 1\n",
    "print(max_before, max_after)\n",
    "\n",
    "for num in data:\n",
    "    s = str(num)\n",
    "    before = s.find(\".\")\n",
    "    after = len(s) - before -1\n",
    "    s = s.rjust(len(s) + max_before - before )\n",
    "    s = s.ljust(len(s) + max_after - after)\n",
    "    print(s)"
   ]
  },
  {
   "cell_type": "markdown",
   "metadata": {},
   "source": [
    "Abother possible solution with string formatting:"
   ]
  },
  {
   "cell_type": "code",
   "execution_count": null,
   "metadata": {},
   "outputs": [],
   "source": [
    "befores = []\n",
    "afters = []\n",
    "max_before = 0\n",
    "max_after = 0\n",
    "for num in data:\n",
    "    before, after = str(num).split(\".\")\n",
    "    befores.append(before)\n",
    "    afters.append(after)\n",
    "    max_before = max(max_before, len(before))\n",
    "    max_after = max(max_after, len(after))\n",
    "\n",
    "for before, after in zip(befores, afters):\n",
    "    print(\"{}.{}\".format(before.rjust(max_before), after.ljust(max_after)))"
   ]
  },
  {
   "cell_type": "markdown",
   "metadata": {},
   "source": [
    "## Ex. 7.7\n",
    "What is the difference between `split(sep = None)` and `split(sep = \" \")`?"
   ]
  },
  {
   "cell_type": "code",
   "execution_count": null,
   "metadata": {},
   "outputs": [],
   "source": [
    "help(str.split)"
   ]
  },
  {
   "cell_type": "markdown",
   "metadata": {},
   "source": [
    "when `sep` is `None`, empty strings are discared from the result. See below for an example:"
   ]
  },
  {
   "cell_type": "code",
   "execution_count": null,
   "metadata": {},
   "outputs": [],
   "source": [
    "s = \"this is   a string    with different amounts   of spaces\"\n",
    "print(s.split(sep = None))\n",
    "print(s.split())\n",
    "print(s.split(sep = \" \"))"
   ]
  },
  {
   "cell_type": "markdown",
   "metadata": {},
   "source": [
    "## Ex. 7.8\n",
    "Write some code to clean up a string where words are separated by random numbers of comas and spaces. Make it into a string were words are separated by a single space."
   ]
  },
  {
   "cell_type": "code",
   "execution_count": null,
   "metadata": {},
   "outputs": [],
   "source": [
    "s = \"I ,,   am,separated   by , , random, things!\"\n",
    "#should become \"I am separated by random things\"\n",
    "words = s.replace(\",\",\" \").split()\n",
    "print(words)\n",
    "s = \" \".join(words)\n",
    "print(s)"
   ]
  }
 ],
 "metadata": {
  "kernelspec": {
   "display_name": "Python 3 (ipykernel)",
   "language": "python",
   "name": "python3"
  },
  "language_info": {
   "codemirror_mode": {
    "name": "ipython",
    "version": 3
   },
   "file_extension": ".py",
   "mimetype": "text/x-python",
   "name": "python",
   "nbconvert_exporter": "python",
   "pygments_lexer": "ipython3",
   "version": "3.12.3"
  }
 },
 "nbformat": 4,
 "nbformat_minor": 4
}
