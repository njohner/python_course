{
 "cells": [
  {
   "cell_type": "markdown",
   "metadata": {
    "tags": []
   },
   "source": [
    "# Exercises 15: numpy\n",
    "Let's get some work done with numpy arrays."
   ]
  },
  {
   "cell_type": "markdown",
   "metadata": {},
   "source": [
    "## Exercise 15.1: numpy array basics\n",
    "### Exercise 15.1.1\n",
    "* import numpy\n",
    "* Define an array `a1d` with values between -1 and 1 with a step of 0.1 (i.e. [-1, -0.9, ..., 0.9, 1])\n",
    "* print out the size (number of elements) of the array (it should be 21!)\n",
    "* Now define a 2-dimensional array `zeros_2d` with 4 rows and 3 columns of zeros"
   ]
  },
  {
   "cell_type": "code",
   "execution_count": null,
   "metadata": {},
   "outputs": [],
   "source": []
  },
  {
   "cell_type": "code",
   "execution_count": null,
   "metadata": {},
   "outputs": [],
   "source": []
  },
  {
   "cell_type": "markdown",
   "metadata": {},
   "source": [
    "### Exercise 15.1.2\n",
    "Let's do some slicing\n",
    "* Using the `reshape` method I created `a2d` with 10 rows and 2 columns from the elements of `a1d` except the last one. Have a look at it.\n",
    "* Now print the first element of the second column\n",
    "* Print the second row\n",
    "* Print the second column"
   ]
  },
  {
   "cell_type": "code",
   "execution_count": null,
   "metadata": {},
   "outputs": [],
   "source": [
    "a2d = a1d[:-1].reshape(10,2)\n",
    "print(a2d)"
   ]
  },
  {
   "cell_type": "code",
   "execution_count": null,
   "metadata": {},
   "outputs": [],
   "source": []
  },
  {
   "cell_type": "code",
   "execution_count": null,
   "metadata": {},
   "outputs": [],
   "source": []
  },
  {
   "cell_type": "code",
   "execution_count": null,
   "metadata": {},
   "outputs": [],
   "source": []
  },
  {
   "cell_type": "markdown",
   "metadata": {},
   "source": [
    "### Exercise 15.1.3\n",
    "Numpy arrays are mutable objects. Still working on `a2d`\n",
    "* Change the second element of the second row to `np.nan`. Verify by printing the second row\n",
    "* Change the first row to `[0, 0]`. Again print out the first row to verify"
   ]
  },
  {
   "cell_type": "code",
   "execution_count": null,
   "metadata": {},
   "outputs": [],
   "source": []
  },
  {
   "cell_type": "code",
   "execution_count": null,
   "metadata": {},
   "outputs": [],
   "source": []
  },
  {
   "cell_type": "code",
   "execution_count": null,
   "metadata": {},
   "outputs": [],
   "source": []
  },
  {
   "cell_type": "markdown",
   "metadata": {},
   "source": [
    "### Exercise 15.1.4: masks\n",
    "Masks allow to work with only parts of a numpy array that fulfill a given condition.\n",
    "* Make an array containing all elements that are `np.nan` in `a1d`.\n",
    "* Now make an array with all elements that are not `np.nan` in `a1d` (you can use `np.logical_not` to invert a boolean array)\n",
    "* **Supplementary**: On `a2d` make an array with all rows that do not have a `np.nan` in the second column"
   ]
  },
  {
   "cell_type": "code",
   "execution_count": null,
   "metadata": {},
   "outputs": [],
   "source": []
  },
  {
   "cell_type": "code",
   "execution_count": null,
   "metadata": {},
   "outputs": [],
   "source": []
  },
  {
   "cell_type": "code",
   "execution_count": null,
   "metadata": {},
   "outputs": [],
   "source": []
  },
  {
   "cell_type": "markdown",
   "metadata": {},
   "source": [
    "## Exercise 15.2: statistics on numpy arrays\n",
    "### Exercise 15.2.1\n",
    "I generated an array `data_1d` containing 100 random numbers drawn from a normal distribution (with mean 2 and standard deviation 0.5) for you.\n",
    "* Calculate its average\n",
    "* Calculate its standard deviation\n",
    "* Now normalise the data into a new array `normalised` by substracting the average and dividing by the standard deviation. Print its average and standard deviation"
   ]
  },
  {
   "cell_type": "code",
   "execution_count": null,
   "metadata": {},
   "outputs": [],
   "source": [
    "data_1d = np.random.normal(2, 0.5, 100)"
   ]
  },
  {
   "cell_type": "code",
   "execution_count": null,
   "metadata": {},
   "outputs": [],
   "source": []
  },
  {
   "cell_type": "code",
   "execution_count": null,
   "metadata": {},
   "outputs": [],
   "source": []
  },
  {
   "cell_type": "markdown",
   "metadata": {},
   "source": [
    "### Exercise 15.2.2\n",
    "Lets look at some multidimensional data. We will load a toy dataset from the scikit-learn package: the diabetes dataset. This dataset looks at how various parameters influence the disease progression. We load the data into a variable `diabetes`."
   ]
  },
  {
   "cell_type": "code",
   "execution_count": null,
   "metadata": {},
   "outputs": [],
   "source": [
    "from sklearn.datasets import load_diabetes\n",
    "try:\n",
    "    diabetes = load_diabetes(scaled=False)\n",
    "except:\n",
    "    diabetes = load_diabetes()"
   ]
  },
  {
   "cell_type": "markdown",
   "metadata": {},
   "source": [
    "#### Exercise 15.2.2 a\n",
    "A description of the data can be found in `diabetes.DESCR`, print it and have a look at it."
   ]
  },
  {
   "cell_type": "code",
   "execution_count": null,
   "metadata": {},
   "outputs": [],
   "source": []
  },
  {
   "cell_type": "markdown",
   "metadata": {},
   "source": [
    "#### Exercise 15.2.2 b\n",
    "The data itself can be accessed with `diabetes.data`, which is a numpy array of the values for the 10 features measured. Print out its shape."
   ]
  },
  {
   "cell_type": "code",
   "execution_count": null,
   "metadata": {},
   "outputs": [],
   "source": []
  },
  {
   "cell_type": "markdown",
   "metadata": {},
   "source": [
    "#### Exercise 15.2.2 c\n",
    "The target value, here a measure of the disease progression is in `diabetes.target`. The name of the features can be found in `diabetes.feature_names`. Calculate the correlation between disease progression (`diabetes.target`) and age (first column of the data) and print it. \n",
    "\n",
    "*HINT: `np.corrcoef` gives back a correlation matrix, the coefficient you want is the first element of the second column.*"
   ]
  },
  {
   "cell_type": "code",
   "execution_count": null,
   "metadata": {},
   "outputs": [],
   "source": []
  },
  {
   "cell_type": "code",
   "execution_count": null,
   "metadata": {},
   "outputs": [],
   "source": []
  },
  {
   "cell_type": "markdown",
   "metadata": {},
   "source": [
    "#### Exercise 15.2.2 d\n",
    "Now calculate the correlation coefficient for every feature in the data set and print it. Which feature is most highly correlated to the disease progression?\n",
    "\n",
    "Instead of simply printing that information you could also save it to a list to make it usable afterwards.\n",
    "\n",
    "*Hint: The easiest is to use a for loop to iterate over all columns of the data with an index*"
   ]
  },
  {
   "cell_type": "code",
   "execution_count": null,
   "metadata": {},
   "outputs": [],
   "source": []
  },
  {
   "cell_type": "markdown",
   "metadata": {},
   "source": [
    "#### Exercise 15.2.2 e\n",
    "Among the features, there is one that is categorical: `sex`. Correlation is obviously a bad measure for a categorical variable. Instead, calculate the average disease progression for men and for women (`sex` equal to 1 or to 2). \n",
    "\n",
    "*HINT: Use a mask*"
   ]
  },
  {
   "cell_type": "markdown",
   "metadata": {},
   "source": []
  },
  {
   "cell_type": "code",
   "execution_count": null,
   "metadata": {},
   "outputs": [],
   "source": []
  },
  {
   "cell_type": "markdown",
   "metadata": {},
   "source": [
    "# Supplementary"
   ]
  },
  {
   "cell_type": "markdown",
   "metadata": {},
   "source": [
    "#### Exercise 15.2.2 f\n",
    "To know whether this difference is significant or not, we would need a statistical test. But the basic idea is that if the difference in average is large compared to the standard deviation, this might be significant. Calculate the standard deviations of the disease progression for these two categories"
   ]
  },
  {
   "cell_type": "code",
   "execution_count": null,
   "metadata": {},
   "outputs": [],
   "source": []
  },
  {
   "cell_type": "markdown",
   "metadata": {},
   "source": [
    "#### Exercise 15.2.2 g\n",
    "Now in order to estimate significance calculate `(0.5*n_samples)**0.5 * (mu1-mu2) / (sd1**2+sd2**2)**0.5`, where `mu1` and `mu2` are the two averages, `sd1` and `sd2` the standard deviations and `n_samples` the number of measurements. This is an estimation of a student t-test in the case where sample size and variance is the same in both groups."
   ]
  },
  {
   "cell_type": "code",
   "execution_count": null,
   "metadata": {},
   "outputs": [],
   "source": []
  },
  {
   "cell_type": "markdown",
   "metadata": {},
   "source": [
    "#### Exercise 15.2.2 h\n",
    "Let's directly do a t-test. The function is found in `scipy.stats.ttest_ind`. Import it and use it to test the significance of the categorical variable on the disease progression."
   ]
  },
  {
   "cell_type": "code",
   "execution_count": null,
   "metadata": {},
   "outputs": [],
   "source": []
  },
  {
   "cell_type": "markdown",
   "metadata": {},
   "source": [
    "## Exercise 15.3 Line Fit\n",
    "We redo Ex. 11.5 but using numpy, which makes it much easier.\n",
    "In this exercise we will write a very simple function to find the best fit line to a set of points."
   ]
  },
  {
   "cell_type": "markdown",
   "metadata": {},
   "source": [
    "### Ex. 15.3.1\n",
    "We start by writing a function to compute the mean squared error between two numpy arrays, i.e. the sum of the residues: $MSE = \\frac{1}{n}\\sum_{i=1}^{n}(x_i-y_i)^2$\n",
    "- Define the function `mean_squared_error` taking two numpy arrays `vec1` and `vec2` as parameters\n",
    "- Test it on a few examples"
   ]
  },
  {
   "cell_type": "code",
   "execution_count": null,
   "metadata": {},
   "outputs": [],
   "source": []
  },
  {
   "cell_type": "code",
   "execution_count": null,
   "metadata": {},
   "outputs": [],
   "source": []
  },
  {
   "cell_type": "markdown",
   "metadata": {},
   "source": [
    "### Ex. 15.3.2\n",
    "#### Ex. 15.3.2a\n",
    "We will now write a very basic optimization method using simple brute force to calculate a best fit line. The `brute_force_line_fit` method should have two parameters `x` and `y`. It should search the best fit parameters `a` and `b` so that the MSE between the prediction $a*x + b$ and $y$ is as small as possible. The function can simply use as search space all floats between -10 and 10 with a step of 0.1 both for $a$ and for $b$. It should return the optimal values for $a$ and $b$ as well as the corresponding MSE."
   ]
  },
  {
   "cell_type": "code",
   "execution_count": null,
   "metadata": {},
   "outputs": [],
   "source": [
    "    "
   ]
  },
  {
   "cell_type": "markdown",
   "metadata": {},
   "source": [
    "#### Ex. 15.3.2b\n",
    "Test the `brute_force_line_fit` function on the follwing $x$ and $y$ data that I have prepared."
   ]
  },
  {
   "cell_type": "code",
   "execution_count": null,
   "metadata": {},
   "outputs": [],
   "source": [
    "real_a = 2.12\n",
    "real_b = 3.23\n",
    "x = np.arange(0, 10, 0.2)\n",
    "y = real_a * x + real_b"
   ]
  },
  {
   "cell_type": "code",
   "execution_count": null,
   "metadata": {},
   "outputs": [],
   "source": []
  },
  {
   "cell_type": "code",
   "execution_count": null,
   "metadata": {},
   "outputs": [],
   "source": []
  }
 ],
 "metadata": {
  "kernelspec": {
   "display_name": "Python 3 (ipykernel)",
   "language": "python",
   "name": "python3"
  },
  "language_info": {
   "codemirror_mode": {
    "name": "ipython",
    "version": 3
   },
   "file_extension": ".py",
   "mimetype": "text/x-python",
   "name": "python",
   "nbconvert_exporter": "python",
   "pygments_lexer": "ipython3",
   "version": "3.12.3"
  }
 },
 "nbformat": 4,
 "nbformat_minor": 4
}
