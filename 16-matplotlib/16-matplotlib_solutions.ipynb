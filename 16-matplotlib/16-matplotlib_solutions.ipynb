{
 "cells": [
  {
   "cell_type": "markdown",
   "metadata": {},
   "source": [
    "# Exercises 16: Matplotlib\n",
    "Now let's make some nice plots!"
   ]
  },
  {
   "cell_type": "markdown",
   "metadata": {},
   "source": [
    "## Exercise 16.1\n",
    "Let's get back to our data on Diabetes disease progression"
   ]
  },
  {
   "cell_type": "code",
   "execution_count": null,
   "metadata": {},
   "outputs": [],
   "source": [
    "%matplotlib inline\n",
    "import numpy as np\n",
    "from sklearn.datasets import load_diabetes\n",
    "try:\n",
    "    diabetes = load_diabetes(scaled=False)\n",
    "except:\n",
    "    diabetes = load_diabetes()\n",
    "    diabetes.data[:,1] = np.where(diabetes.data[:,1] > 0, 2, 1)"
   ]
  },
  {
   "cell_type": "markdown",
   "metadata": {},
   "source": [
    "Remember a description of the data can be found in `diabetes.DESCR`. The data itself can be accessed with `diabetes.data`, which is a numpy array of the values for the 10 features measured. The target value, here the progression of the illness is in `diabetes.target`. The name of the features can be found in `diabetes.feature_names`\n",
    "### Exercise 16.1.1\n",
    "We want to look at the correlation between the *BMI* and the disease progression.\n",
    "* plot the disease progression (y-axis) as a function of BMI (x-axis).\n",
    "* use green crosses as markers\n",
    "* set the x and y axis labels (to \"Diabetes progression\" and \"BMI\")\n",
    "* set the title of the plot to \"Correlation between BMI and diabetes progression\"\n",
    "* set the fontsize to 14 for the axes labels and 16 for the title"
   ]
  },
  {
   "cell_type": "code",
   "execution_count": null,
   "metadata": {},
   "outputs": [],
   "source": [
    "import matplotlib.pyplot as plt"
   ]
  },
  {
   "cell_type": "code",
   "execution_count": null,
   "metadata": {},
   "outputs": [],
   "source": [
    "plt.figure()\n",
    "plt.plot(diabetes.data[:,2], diabetes.target, 'gx')\n",
    "plt.xlabel(\"BMI\", fontsize=14)\n",
    "plt.ylabel(\"Diabetes progression\", fontsize=14)\n",
    "plt.title(\"Correlation between BMI and diabetes progression\", fontsize=16)\n",
    "plt.show()\n",
    "plt.close()"
   ]
  },
  {
   "cell_type": "markdown",
   "metadata": {},
   "source": [
    "### Exercise 16.1.2 (Supplementary)\n",
    "The axis tick labels are still a bit small to look good. Set their fontsize to 12.\n",
    "\n",
    "*HINTs*: \n",
    "* use matplotlib.rcParams to change this font size. You will need to import `matplotlib`. I suggest you import it as `mpl`\n",
    "* `mpl.rcParams.keys()` will show you all the available things that you can customize. Because there are so many, it's not easy to find what you want. Try a list comprehension to filter only relevant keys `[k for k in mpl.rcParams.keys() if \"size\" in k]`"
   ]
  },
  {
   "cell_type": "code",
   "execution_count": null,
   "metadata": {},
   "outputs": [],
   "source": [
    "import matplotlib as mpl\n",
    "print([k for k in mpl.rcParams.keys() if \"size\" in k])"
   ]
  },
  {
   "cell_type": "code",
   "execution_count": null,
   "metadata": {},
   "outputs": [],
   "source": [
    "mpl.rcParams['ytick.labelsize'] = 12\n",
    "mpl.rcParams['xtick.labelsize'] = 12\n",
    "plt.figure()\n",
    "plt.plot(diabetes.data[:,2], diabetes.target, 'gx')\n",
    "plt.xlabel(\"BMI\", fontsize=14)\n",
    "plt.ylabel(\"Diabetes progression\", fontsize=14)\n",
    "plt.title(\"Correlation between BMI and diabetes progression\", fontsize=16)\n",
    "plt.show()\n",
    "plt.close()"
   ]
  },
  {
   "cell_type": "markdown",
   "metadata": {},
   "source": [
    "### Exercise 16.1.3\n",
    "Let's see if our two categories *man* and *woman* overlap on that plot. Redo the plot above, but with *men* as green crosses and *women* as red circles.\n",
    "\n",
    "*Hint: Remember the mask from exercise 15.2.2 e*"
   ]
  },
  {
   "cell_type": "code",
   "execution_count": null,
   "metadata": {},
   "outputs": [],
   "source": [
    "# First we prepare the mask\n",
    "female = diabetes.data[:, 1] == 2\n",
    "male = np.logical_not(female)"
   ]
  },
  {
   "cell_type": "code",
   "execution_count": null,
   "metadata": {},
   "outputs": [],
   "source": [
    "# Now we make the plot\n",
    "plt.figure()\n",
    "plt.plot(diabetes.data[male, 2], diabetes.target[male], 'gx', label=\"men\")\n",
    "plt.plot(diabetes.data[female, 2], diabetes.target[female], 'r.', label=\"women\")\n",
    "plt.xlabel(\"BMI\", fontsize=14)\n",
    "plt.ylabel(\"Diabetes progression\", fontsize=14)\n",
    "plt.title(\"Correlation between BMI and diabetes progression\", fontsize=16)\n",
    "plt.legend(loc=\"best\")\n",
    "plt.show()\n",
    "plt.close()"
   ]
  },
  {
   "cell_type": "markdown",
   "metadata": {},
   "source": [
    "### Exercise 16.1.4\n",
    "Let's have a look at the distribution of diabetes progression.\n",
    "#### Exercise 16.1.4a \n",
    "Make a histogram of the diabetes progression"
   ]
  },
  {
   "cell_type": "code",
   "execution_count": null,
   "metadata": {},
   "outputs": [],
   "source": [
    "plt.figure()\n",
    "plt.hist(diabetes.target)\n",
    "plt.xlabel(\"Diabetes progression\", fontsize=14)\n",
    "plt.show()\n",
    "plt.close()"
   ]
  },
  {
   "cell_type": "markdown",
   "metadata": {},
   "source": [
    "#### Exercise 16.1.4b\n",
    "Now split the data into two parts, *men* and *women*."
   ]
  },
  {
   "cell_type": "code",
   "execution_count": null,
   "metadata": {},
   "outputs": [],
   "source": [
    "plt.figure()\n",
    "plt.hist([diabetes.target[male], diabetes.target[female]], density=True, label=['men', 'women'])\n",
    "plt.xlabel(\"Diabetes progression\", fontsize=14)\n",
    "plt.legend()\n",
    "plt.show()\n",
    "plt.close()"
   ]
  },
  {
   "cell_type": "markdown",
   "metadata": {},
   "source": [
    "### Exercise 16.1.5\n",
    "It can be useful to look at whether different features are correlated with one another or not. So let's make an image showing the correlation matrix between all the features plus the target. I've prepared the matrix for you in `corr_mat`\n",
    "* To show an image, in this case a matrix, you can use the `plt.imshow` function\n",
    "* the default colormap is ugly, many others can be found in `matplotlib.cm`. For correlations `matplotlib.cm.bwr` is nice (white for no correlation and red for positive, blue for negative). \n",
    "* use `vmin=-1` and `vmax=1` to set the min and max value for the colormap\n",
    "* Finally, labels should be the names of the features. I've prepared an array `labels` containing all the labels. You can set the labels using `plt.xticks` and `plt.yticks`. They take two arrays as argument, the positions of the ticks and their label.\n",
    "* for the x-axis, the labels should be rotated to be readable. You can use `rotation=90` as supplementary argument in the `plt.xticks` call.\n",
    "* `plt.colorbar` will show the colorbar"
   ]
  },
  {
   "cell_type": "code",
   "execution_count": null,
   "metadata": {},
   "outputs": [],
   "source": [
    "corr_mat = np.corrcoef(np.concatenate((diabetes.data, diabetes.target[:,np.newaxis]),axis=1).T)\n",
    "labels = np.append(diabetes.feature_names,\"Progerssion\")"
   ]
  },
  {
   "cell_type": "code",
   "execution_count": null,
   "metadata": {},
   "outputs": [],
   "source": [
    "plt.figure()\n",
    "plt.imshow(corr_mat, vmin=-1, vmax=1, cmap=mpl.cm.bwr)\n",
    "plt.xticks(range(11),labels, rotation=90)\n",
    "plt.yticks(range(11),labels)\n",
    "plt.colorbar()"
   ]
  },
  {
   "cell_type": "code",
   "execution_count": null,
   "metadata": {},
   "outputs": [],
   "source": [
    "help(plt.imshow)"
   ]
  },
  {
   "cell_type": "markdown",
   "metadata": {},
   "source": [
    "# Supplementary\n",
    "### Exercise 16.1.6\n",
    "Now let's look at the distributions for the features:\n",
    "* We first normalise the data, I've done that for you\n",
    "* Make a histogram with all the features that have a correlation coefficient above 0.4. I've already prepared the array with the correlation coefficients `correlations`. Use 15 bins.\n",
    "* Set the label of the y-axis to \"Probability\"\n",
    "* This plot is a bit hard to read, we will try to improve on it in the next figure"
   ]
  },
  {
   "cell_type": "code",
   "execution_count": null,
   "metadata": {},
   "outputs": [],
   "source": [
    "diabetes.data = (diabetes.data - np.average(diabetes.data, axis=0))/np.std(diabetes.data, axis=0)\n",
    "correlations = np.abs(np.corrcoef(np.concatenate((diabetes.data, diabetes.target[:,np.newaxis]),axis=1).T))[:-1,-1]"
   ]
  },
  {
   "cell_type": "code",
   "execution_count": null,
   "metadata": {},
   "outputs": [],
   "source": [
    "cutoff = 0.4\n",
    "highly_correlated = diabetes.data[:, correlations > cutoff]\n",
    "high_corr_labels = [feature for feature, corr in zip(diabetes.feature_names, correlations) if corr > cutoff]"
   ]
  },
  {
   "cell_type": "code",
   "execution_count": null,
   "metadata": {},
   "outputs": [],
   "source": [
    "plt.hist(highly_correlated, bins=15, density=True, label=high_corr_labels)\n",
    "plt.legend(loc=\"best\")\n",
    "plt.ylabel(\"Probability\")\n",
    "plt.legend()\n",
    "plt.show()\n",
    "plt.close()"
   ]
  },
  {
   "cell_type": "markdown",
   "metadata": {},
   "source": [
    "### Exercise 16.1.7\n",
    "Histograms represented with bars are hard to read. You could instead use `histtype=step`, but I find even this hard to read. Instead, we will use the data generated from the `plt.hist` call to make a normal line plot.\n",
    "* `plt.hist` returns 3 arrays: the values, the bin edges, and the patches. Retrieve those and use them to make a normal line plot\n",
    "* label the curves and show the labels"
   ]
  },
  {
   "cell_type": "markdown",
   "metadata": {},
   "source": [
    "So here first a plot with `histtype=step`:"
   ]
  },
  {
   "cell_type": "code",
   "execution_count": null,
   "metadata": {},
   "outputs": [],
   "source": [
    "plt.hist(highly_correlated, bins=15, density=True, histtype='step', label=high_corr_labels)\n",
    "plt.legend(loc=\"best\")\n",
    "plt.ylabel(\"Probability\")\n",
    "plt.show()\n",
    "plt.close()"
   ]
  },
  {
   "cell_type": "markdown",
   "metadata": {},
   "source": [
    "Now let's make a line plot of the histograms."
   ]
  },
  {
   "cell_type": "code",
   "execution_count": null,
   "metadata": {},
   "outputs": [],
   "source": [
    "y, x, p = plt.hist(highly_correlated, bins=15, density=True)\n",
    "plt.close()\n",
    "x = 0.5 * (x[1:] + x[:-1])\n",
    "plt.figure()\n",
    "for fname, yi in zip(high_corr_labels, y):\n",
    "    plt.plot(x, yi, label=fname)\n",
    "plt.ylabel(\"Probability\")\n",
    "plt.xlabel(\"Feature\")\n",
    "plt.legend(loc=\"best\")\n",
    "plt.show()"
   ]
  },
  {
   "cell_type": "markdown",
   "metadata": {},
   "source": [
    "# Supplementary: Subplots\n",
    "In this exercise we look at how to make subplots in matplotlib. You can find an example and some explanations at the end of the presentation on matplotlib.\n",
    "## Exercise 16.2 \n",
    "\n",
    "Make a figure with one plot for every feature except `sex` (which is categorical), showing the disease progression on the y axis as a function of that feature on the x-axis. This is 9 plots, so make it 3 lines of 3 plots.\n",
    "#### Exercise 16.2.1\n",
    "Make this plot and try to make it nice, with titles, axis labels, reasonable size, etc.\n",
    "\n",
    "*HINT: for most features that are normally set through `plt.feature()`, for a subplot `ax` (an `AxesSubplot` object) the feature is set with `ax.set_feature`. So for example instead of `plt.title(\"My title\")`, for a subplot `ax` it would be `ax.set_title(\"My title\")`*"
   ]
  },
  {
   "cell_type": "code",
   "execution_count": null,
   "metadata": {},
   "outputs": [],
   "source": [
    "f, axes = plt.subplots(3, 3, figsize=(10, 10), sharey = True)\n",
    "features = np.array(diabetes.feature_names)\n",
    "mask =  features != \"sex\"\n",
    "features = features[mask]\n",
    "data = diabetes.data[:, mask]\n",
    "for fname, xi, ax in zip(features, data.T, axes.flatten()):\n",
    "    ax.plot(xi,diabetes.target,\"rx\")\n",
    "    ax.set_title(\"{} vs {}\".format(\"Progression\",fname))\n",
    "    ax.set_xlabel(fname)\n",
    "for ax in axes[:,0]:\n",
    "    ax.set_ylabel(\"Diabetes progression\")\n",
    "plt.subplots_adjust(wspace=0.05, hspace=0.35)"
   ]
  },
  {
   "cell_type": "markdown",
   "metadata": {},
   "source": [
    "#### Exercise 16.2.2\n",
    "Now we would like to have more explicit labels for the different features. For this we can use a dictionary mapping the feature keys to a nicer name. I've prepared the dictionary. Use it to redo the plot above but with the more explicit feature names for titles and labels..."
   ]
  },
  {
   "cell_type": "code",
   "execution_count": null,
   "metadata": {},
   "outputs": [],
   "source": [
    "fname_dict = dict(zip(features, [\"Age\", \"Body Mass Index\", \"Blood Pressure\",\n",
    "                                 \"Total Cholesterol\",\"low-density lipoprot\", \"high-density lipoprot\",\n",
    "                                 \"Total cholesterol / HDL\", \"serum triglycerides\", \"blood sugar level\"]))"
   ]
  },
  {
   "cell_type": "code",
   "execution_count": null,
   "metadata": {},
   "outputs": [],
   "source": [
    "f, axes = plt.subplots(3, 3, figsize=(15, 10), sharey = True)\n",
    "data = diabetes.data[:, mask]\n",
    "for fname, xi, ax in zip(features, data.T, axes.flatten()):\n",
    "    ax.plot(xi,diabetes.target,\"rx\")\n",
    "    ax.set_title(\"{} vs {}\".format(\"Progression\",fname_dict[fname]))\n",
    "    ax.set_xlabel(fname_dict[fname])\n",
    "for ax in axes[:,0]:\n",
    "    ax.set_ylabel(\"Diabetes progression\")\n",
    "plt.subplots_adjust(wspace=0.05, hspace=0.35)"
   ]
  },
  {
   "cell_type": "code",
   "execution_count": null,
   "metadata": {},
   "outputs": [],
   "source": []
  }
 ],
 "metadata": {
  "kernelspec": {
   "display_name": "Python 3 (ipykernel)",
   "language": "python",
   "name": "python3"
  },
  "language_info": {
   "codemirror_mode": {
    "name": "ipython",
    "version": 3
   },
   "file_extension": ".py",
   "mimetype": "text/x-python",
   "name": "python",
   "nbconvert_exporter": "python",
   "pygments_lexer": "ipython3",
   "version": "3.12.3"
  }
 },
 "nbformat": 4,
 "nbformat_minor": 4
}
