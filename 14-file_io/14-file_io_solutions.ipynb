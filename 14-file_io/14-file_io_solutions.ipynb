{
 "cells": [
  {
   "cell_type": "markdown",
   "metadata": {},
   "source": [
    "# Exercises 14: file input/output\n",
    "In this series of exercises we will learn to read and write files and notably csv files."
   ]
  },
  {
   "cell_type": "markdown",
   "metadata": {},
   "source": [
    "## Exercise 14.1\n",
    "\n",
    "* We start by creating a `./temp` directory into which we will write files. You can do that using the `os.mkdir` function and you can delete it when all is done. \n",
    "* Now we write the string `my_string` to a text file \"./temp/lorem_ipsum.txt\"\n",
    "* Finally read the data back out from the file and assign the read string to a variable `read_string`"
   ]
  },
  {
   "cell_type": "code",
   "execution_count": null,
   "metadata": {},
   "outputs": [],
   "source": [
    "# create the temp directory here\n",
    "import os\n",
    "print(os.path.abspath(os.curdir))\n",
    "if not os.path.exists(\"temp\"):\n",
    "    os.mkdir(\"temp\")"
   ]
  },
  {
   "cell_type": "code",
   "execution_count": null,
   "metadata": {},
   "outputs": [],
   "source": [
    "my_string = \"\"\"Lorem ipsum dolor sit amet, consetetur sadipscing elitr,\n",
    "sed diam nonumy eirmod tempor invidunt ut labore et dolore\n",
    "magna aliquyam erat, sed diam voluptua.\"\"\"\n",
    "\n",
    "f = open(os.path.join(\"temp\",\"lorem_ipsum.txt\"), \"w\")\n",
    "f.write(my_string)\n",
    "f.close()"
   ]
  },
  {
   "cell_type": "code",
   "execution_count": null,
   "metadata": {},
   "outputs": [],
   "source": [
    "with open(os.path.join(\"temp\",\"lorem_ipsum.txt\"), \"r\") as fin:\n",
    "    read_string = fin.read()\n",
    "print(\"read:\", read_string)"
   ]
  },
  {
   "cell_type": "markdown",
   "metadata": {},
   "source": [
    "## Exercise 14.2\n",
    "Let's start by writing some data to a temporary csv file."
   ]
  },
  {
   "cell_type": "code",
   "execution_count": null,
   "metadata": {},
   "outputs": [],
   "source": [
    "data = [(1, 0.5),(2, 0.25),(3, 0.6),(4, 0.9), (5, 0.7)]\n",
    "titles = [\"id\", \"measure\"]\n",
    "import pandas as pd\n",
    "df = pd.DataFrame(data, columns=titles)\n",
    "with open(os.path.join(\"temp\",\"data.csv\"),\"w\") as fout:\n",
    "    df.to_csv(fout, index=False)"
   ]
  },
  {
   "cell_type": "markdown",
   "metadata": {},
   "source": [
    "* Try now loading the data using `pandas`'s `read_csv` function and put it into a variable `data_frame`.\n",
    "* look at the data frame:\n",
    "    * print it\n",
    "    * look at the `data_frame.columns` attribute\n",
    "    * The data frame works like a dictionary, you can look at a given column with `data_frame[column_name]`"
   ]
  },
  {
   "cell_type": "code",
   "execution_count": null,
   "metadata": {},
   "outputs": [],
   "source": [
    "with open(os.path.join(\"temp\",\"data.csv\"),\"r\") as fin:\n",
    "    data_frame = pd.read_csv(fin)\n",
    "print(data_frame)"
   ]
  },
  {
   "cell_type": "code",
   "execution_count": null,
   "metadata": {},
   "outputs": [],
   "source": [
    "# read_csv can also simply take a path as argument\n",
    "data_frame = pd.read_csv(os.path.join(\"temp\",\"data.csv\"))\n",
    "print(data_frame)"
   ]
  },
  {
   "cell_type": "code",
   "execution_count": null,
   "metadata": {},
   "outputs": [],
   "source": [
    "print(\"columns\", data_frame.columns)\n",
    "print(data_frame[\"measure\"])"
   ]
  },
  {
   "cell_type": "markdown",
   "metadata": {},
   "source": [
    "## Exercise 14.3\n",
    "* Now save that `data_frame` directly as it is, using `pickle` (you have to open the file for writing in binary mode: `wb`)\n",
    "* reload the data frame from the file into a new object `data_frame_new`, then print it (you have to open the file for reading in binary mode: `rb`)."
   ]
  },
  {
   "cell_type": "code",
   "execution_count": null,
   "metadata": {},
   "outputs": [],
   "source": [
    "import pickle\n",
    "with open(\"test.pkl\", \"wb\") as fout:\n",
    "    pickle.dump(data_frame, fout)\n"
   ]
  },
  {
   "cell_type": "code",
   "execution_count": null,
   "metadata": {},
   "outputs": [],
   "source": [
    "with open(\"test.pkl\", \"rb\") as fin:\n",
    "    data_frame_new = pickle.load(fin)\n",
    "print(data_frame_new)"
   ]
  },
  {
   "cell_type": "code",
   "execution_count": null,
   "metadata": {},
   "outputs": [],
   "source": [
    "type(data_frame_new)"
   ]
  }
 ],
 "metadata": {
  "kernelspec": {
   "display_name": "Python 3 (ipykernel)",
   "language": "python",
   "name": "python3"
  },
  "language_info": {
   "codemirror_mode": {
    "name": "ipython",
    "version": 3
   },
   "file_extension": ".py",
   "mimetype": "text/x-python",
   "name": "python",
   "nbconvert_exporter": "python",
   "pygments_lexer": "ipython3",
   "version": "3.12.3"
  }
 },
 "nbformat": 4,
 "nbformat_minor": 4
}
