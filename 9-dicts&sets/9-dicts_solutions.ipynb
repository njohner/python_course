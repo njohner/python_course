{
 "cells": [
  {
   "cell_type": "markdown",
   "metadata": {},
   "source": [
    "# Exercise 9: Dictionaries and sets\n",
    "Let's get some practice working with dictionnaries and sets. Dictionaries are a useful because they offer a flexible way to structure information and access objects with a very explicit syntax, while sets are primarily useful for their efficiency."
   ]
  },
  {
   "cell_type": "markdown",
   "metadata": {},
   "source": [
    "## 9.1 Dictionaries"
   ]
  },
  {
   "cell_type": "markdown",
   "metadata": {},
   "source": [
    "### Ex 9.1.1\n",
    "Imagine you have some data on employees. The data for one employee coul be stored in a dictionary and look something like:"
   ]
  },
  {
   "cell_type": "code",
   "execution_count": null,
   "metadata": {},
   "outputs": [],
   "source": [
    "employee = {\"first\": \"Roger\",\n",
    "            \"last\": \"Federer\",\n",
    "            \"age\": 41}"
   ]
  },
  {
   "cell_type": "markdown",
   "metadata": {},
   "source": [
    "- Add a new key `salary` with a value of `800000`\n",
    "- Then print the first and last name of the employee as well as his salary."
   ]
  },
  {
   "cell_type": "code",
   "execution_count": null,
   "metadata": {},
   "outputs": [],
   "source": [
    "employee['salary'] = 800000\n",
    "print(\"{} {} earns {}\".format(employee[\"first\"], employee[\"last\"], employee[\"salary\"]))"
   ]
  },
  {
   "cell_type": "markdown",
   "metadata": {},
   "source": [
    "### Ex 9.1.2\n",
    "Of course we could store the data for all the different employees in a dictionary `employees`"
   ]
  },
  {
   "cell_type": "code",
   "execution_count": null,
   "metadata": {},
   "outputs": [],
   "source": [
    "employees = {'roger.federer': {\"first\": \"Roger\", \"last\": \"Federer\", \"age\": 41, \"salary\": 800000},\n",
    "             'john.doe': {\"first\": \"John\", \"last\": \"Doe\", \"age\": 62, \"salary\": 40000},\n",
    "             'mr.smith': {\"first\": \"Mr\", \"last\": \"Smith\", \"age\": 21, \"salary\": 60000},\n",
    "             'hugo.boss': {\"first\": \"Hugo\", \"last\": \"Boss\", \"age\": 89, \"salary\": 120000}}"
   ]
  },
  {
   "cell_type": "markdown",
   "metadata": {
    "tags": []
   },
   "source": [
    "#### Ex 9.1.2 a\n",
    "John Doe has his birthday, increase his age by 1."
   ]
  },
  {
   "cell_type": "code",
   "execution_count": null,
   "metadata": {},
   "outputs": [],
   "source": [
    "employees['john.doe']['age'] += 1"
   ]
  },
  {
   "cell_type": "code",
   "execution_count": null,
   "metadata": {},
   "outputs": [],
   "source": [
    "employees['john.doe']['age']"
   ]
  },
  {
   "cell_type": "markdown",
   "metadata": {},
   "source": [
    "#### Ex 9.1.2 b\n",
    "Well now John Doe retires, remove him from the list of employees."
   ]
  },
  {
   "cell_type": "code",
   "execution_count": null,
   "metadata": {},
   "outputs": [],
   "source": [
    "employees.pop('john.doe')"
   ]
  },
  {
   "cell_type": "markdown",
   "metadata": {
    "tags": []
   },
   "source": [
    "#### Ex 9.1.2 c\n",
    "Now it's the end of the year and all employees get a raise of 5%. Use a for loop to modify the salaries accordingly, then print the salaries"
   ]
  },
  {
   "cell_type": "code",
   "execution_count": null,
   "metadata": {},
   "outputs": [],
   "source": [
    "for employee_id in employees:\n",
    "    employees[employee_id]['salary'] *= 1.05"
   ]
  },
  {
   "cell_type": "code",
   "execution_count": null,
   "metadata": {},
   "outputs": [],
   "source": [
    "for employee in employees.values():\n",
    "    print(\"{} {} earns {}\".format(employee[\"first\"], employee[\"last\"], employee[\"salary\"]))"
   ]
  },
  {
   "cell_type": "markdown",
   "metadata": {},
   "source": [
    "### Ex 9.1.3\n",
    "Dictionaries can be easily used as mappings. As an example imagine we have a categorical variable that can take the values `high`, `medium` and `low`, and we would like to transform that to integer values 3, 2 and 1.\n",
    "- Define a dictionary `mapping` with keys `high`, `medium` and `low` and their corresponding values as values\n",
    "- Use that dictionary to create a new list `mapped` containing the values of `categorical` mapped to integers"
   ]
  },
  {
   "cell_type": "code",
   "execution_count": null,
   "metadata": {},
   "outputs": [],
   "source": [
    "categorical = ['high', 'low', 'medium', 'medium', 'low', 'high']"
   ]
  },
  {
   "cell_type": "code",
   "execution_count": null,
   "metadata": {},
   "outputs": [],
   "source": [
    "mapping = {'low': 1, 'medium': 2, 'high': 3}\n",
    "mapped = []\n",
    "for value in categorical:\n",
    "    mapped.append(mapping[value])\n",
    "\n",
    "print(\"mapped:\", mapped)"
   ]
  },
  {
   "cell_type": "markdown",
   "metadata": {
    "tags": []
   },
   "source": [
    "## 9.2 Sets"
   ]
  },
  {
   "cell_type": "markdown",
   "metadata": {},
   "source": [
    "### Ex. 9.2.1\n",
    "From the two lists below, extract the sets of unique elements. Then calculate their interesection."
   ]
  },
  {
   "cell_type": "code",
   "execution_count": null,
   "metadata": {},
   "outputs": [],
   "source": [
    "l1 = [1, 2, 3, 2, 6, 2]\n",
    "l2 = [1, 5, 1, 4, 3]"
   ]
  },
  {
   "cell_type": "code",
   "execution_count": null,
   "metadata": {},
   "outputs": [],
   "source": [
    "s1 = set(l1)\n",
    "s2 = set(l2)\n",
    "intersection = s1.intersection(s2)\n",
    "print(\"s1\", s1)\n",
    "print(\"s2\", s2)\n",
    "print(\"intersection\", intersection)"
   ]
  },
  {
   "cell_type": "markdown",
   "metadata": {},
   "source": [
    "# Supplementary exercises"
   ]
  },
  {
   "cell_type": "markdown",
   "metadata": {},
   "source": [
    "## Ex. 9.3\n",
    "We start again with the dictionary of employees. \n",
    "\n",
    "Below I'll import `pprint` which you can use instead of `print` when printing a dictionary. Its output is much prettier."
   ]
  },
  {
   "cell_type": "code",
   "execution_count": null,
   "metadata": {},
   "outputs": [],
   "source": [
    "from pprint import pprint"
   ]
  },
  {
   "cell_type": "markdown",
   "metadata": {},
   "source": [
    "### Ex. 9.3.1\n",
    "We would now like to specify in what department each employee works. You will find that data in the `departments` dictionary. Use it to add a `department` key to each employee in the `employees` dictionary."
   ]
  },
  {
   "cell_type": "code",
   "execution_count": null,
   "metadata": {},
   "outputs": [],
   "source": [
    "employees = {'roger.federer': {\"first\": \"Roger\", \"last\": \"Federer\", \"age\": 41, \"salary\": 800000},\n",
    "             'john.doe': {\"first\": \"John\", \"last\": \"Doe\", \"age\": 62, \"salary\": 40000},\n",
    "             'mr.smith': {\"first\": \"Mr\", \"last\": \"Smith\", \"age\": 21, \"salary\": 60000},\n",
    "             'hugo.boss': {\"first\": \"Hugo\", \"last\": \"Boss\", \"age\": 89, \"salary\": 120000}}\n",
    "departments = {'tech': ['mr.smith', 'john.doe'],\n",
    "               'sales': ['roger.federer', 'hugo.boss']}"
   ]
  },
  {
   "cell_type": "code",
   "execution_count": null,
   "metadata": {},
   "outputs": [],
   "source": [
    "for dep_name in departments:\n",
    "    for emp_id in departments[dep_name]:\n",
    "        employees[emp_id]['department'] = dep_name\n",
    "\n",
    "pprint(employees)"
   ]
  },
  {
   "cell_type": "markdown",
   "metadata": {},
   "source": [
    "### Ex. 9.3.2\n",
    "It's again that time of the year when the employees get a raise, but the raises depend on the department in which the employee works and are stored in `raises`. Modify the employees'salaries accordingly, then print the new salaries."
   ]
  },
  {
   "cell_type": "code",
   "execution_count": null,
   "metadata": {},
   "outputs": [],
   "source": [
    "raises = {'tech': 1.02, 'sales': 1.1}"
   ]
  },
  {
   "cell_type": "code",
   "execution_count": null,
   "metadata": {},
   "outputs": [],
   "source": [
    "for emp_id, employee in employees.items():\n",
    "    emp_raise = raises[employee['department']]\n",
    "    print(\"{} gets a {:.0f}% raise\".format(emp_id, 100*(emp_raise - 1)))\n",
    "    employee['salary'] *= emp_raise\n",
    "\n",
    "print()\n",
    "for employee in employees.values():\n",
    "    print(\"{} {} earns {}\".format(employee[\"first\"], employee[\"last\"], employee[\"salary\"]))\n"
   ]
  },
  {
   "cell_type": "markdown",
   "metadata": {},
   "source": [
    "### Ex. 9.3.3\n",
    "A new employee is starting, his salary is the average salary of his department.\n",
    "- calculate his salary\n",
    "- add him to the `employees` dictionary"
   ]
  },
  {
   "cell_type": "code",
   "execution_count": null,
   "metadata": {},
   "outputs": [],
   "source": [
    "new_employee = {\"first\": \"Richard\", \"last\": \"Hendriks\", \"age\": 34, \"department\": \"tech\"}"
   ]
  },
  {
   "cell_type": "code",
   "execution_count": null,
   "metadata": {},
   "outputs": [],
   "source": [
    "salaries = []\n",
    "for employee in employees.values():\n",
    "    if employee[\"department\"] == new_employee[\"department\"]:\n",
    "        salaries.append(employee[\"salary\"])\n",
    "\n",
    "average_salary = sum(salaries) / len(salaries)\n",
    "new_employee[\"salary\"] = average_salary"
   ]
  },
  {
   "cell_type": "code",
   "execution_count": null,
   "metadata": {},
   "outputs": [],
   "source": [
    "employee_id = \"{}.{}\".format(new_employee[\"first\"].lower(), new_employee[\"last\"].lower())\n",
    "employees[employee_id] = new_employee\n",
    "pprint(employees)"
   ]
  },
  {
   "cell_type": "markdown",
   "metadata": {},
   "source": [
    "### Ex. 9.3.4\n",
    "We would like to make some statistics about word frequencies. For every word in the text below, count how often it appears.\n",
    "\n",
    "*HINTS:*\n",
    "* start by replacing dots and commas by spaces to keep only the words\n",
    "* strings have a method called `lower`, have a look at it, it might help\n",
    "* remember the `str.split()` method to cut a string into a list of words.\n",
    "* you can use `key in dict` to test whether a certain `key` is in a dictionary `dict`."
   ]
  },
  {
   "cell_type": "code",
   "execution_count": null,
   "metadata": {},
   "outputs": [],
   "source": [
    "text = \"\"\"The European languages are members of the same family. Their separate existence is a myth. \n",
    "    For science, music, sport, etc, Europe uses the same vocabulary. \n",
    "    The languages only differ in their grammar, their pronunciation and their most common words. \n",
    "    Everyone realizes why a new common language would be desirable: one could refuse to pay expensive translators. \n",
    "    To achieve this, it would be necessary to have uniform grammar, pronunciation and more common words. If several \n",
    "    languages coalesce, the grammar of the resulting language is more simple and regular than that of the individual \n",
    "    languages. The new common language will be more\"\"\""
   ]
  },
  {
   "cell_type": "code",
   "execution_count": null,
   "metadata": {},
   "outputs": [],
   "source": [
    "word_count = {}\n",
    "text = text.replace(\".\",\" \").replace(\",\",\" \").lower()\n",
    "words = text.split()\n",
    "for word in words:\n",
    "    if not word in word_count:\n",
    "        word_count[word] = 1\n",
    "    else:\n",
    "        word_count[word] += 1\n",
    "print(word_count)"
   ]
  },
  {
   "cell_type": "markdown",
   "metadata": {},
   "source": [
    "### Ex. 9.3.5\n",
    "We would now like to compare 2 different texts.\n",
    "* For each text, determine the set of words that appear in it\n",
    "* Calculate the set of words that appear in both texts\n",
    "* Calculate the set of words that appear in only one of the texts (*HINT: look at the `symmetric_difference` method*)\n",
    "* Calculate the fraction of words that are common (appear in both texts)\n",
    "* Calculate the average length of words for both sets\n",
    "\n",
    "*HINTS:*\n",
    "* start by replacing dots and commas by spaces to keep only the words\n",
    "* strings have a method called `lower`, have a look at it, it might help\n",
    "* remember the `str.split()` method to cut a string into a list of words."
   ]
  },
  {
   "cell_type": "code",
   "execution_count": null,
   "metadata": {},
   "outputs": [],
   "source": [
    "text1 = \"\"\"The European languages are members of the same family. Their separate existence is a myth. \n",
    "    For science, music, sport, etc, Europe uses the same vocabulary. \n",
    "    The languages only differ in their grammar, their pronunciation and their most common words. \n",
    "    Everyone realizes why a new common language would be desirable: one could refuse to pay expensive translators. \n",
    "    To achieve this, it would be necessary to have uniform grammar, pronunciation and more common words. If several \n",
    "    languages coalesce, the grammar of the resulting language is more simple and regular than that of the individual \n",
    "    languages. The new common language will be more\"\"\"\n",
    "text2 = \"\"\"Far far away, behind the word mountains, far from the countries Vokalia and Consonantia, there live \n",
    "    the blind texts. Separated they live in Bookmarksgrove right at the coast of the Semantics, a large language ocean.\n",
    "    A small river named Duden flows by their place and supplies it with the necessary regelialia. It is a paradisematic \n",
    "    country, in which roasted parts of sentences fly into your mouth. Even the all-powerful Pointing has no control about\n",
    "    the blind texts it is an almost unorthographic life One day however a small line of blind text by the name of Lorem Ipsum decided to\"\"\""
   ]
  },
  {
   "cell_type": "code",
   "execution_count": null,
   "metadata": {},
   "outputs": [],
   "source": [
    "text1 = text1.replace(\".\",\" \").replace(\",\",\" \").lower()\n",
    "text2 = text2.replace(\".\",\" \").replace(\",\",\" \").lower()\n",
    "words1 = set(text1.split())\n",
    "words2 = set(text2.split())\n",
    "\n",
    "common = words1.intersection(words2)\n",
    "difference = words1.symmetric_difference(words2)\n",
    "common_frac = len(common)/len(words1.union(words2))\n",
    "print(\"{:.2}% of the words appear in both texts\".format(100*common_frac))\n",
    "\n",
    "lengths = []\n",
    "for word in common:\n",
    "    lengths.append(len(word))\n",
    "average_length_common = sum(lengths)/len(lengths)\n",
    "\n",
    "lengths = []\n",
    "for word in difference:\n",
    "    lengths.append(len(word))\n",
    "average_length_difference = sum(lengths)/len(lengths)\n",
    "\n",
    "print(\"There are {} common words with average length {}\".format(len(common),average_length_common))\n",
    "print(\"There are {} words present in only one of the texts with average length {}\".format(len(difference),average_length_difference))"
   ]
  },
  {
   "cell_type": "code",
   "execution_count": null,
   "metadata": {},
   "outputs": [],
   "source": []
  }
 ],
 "metadata": {
  "kernelspec": {
   "display_name": "Python 3 (ipykernel)",
   "language": "python",
   "name": "python3"
  },
  "language_info": {
   "codemirror_mode": {
    "name": "ipython",
    "version": 3
   },
   "file_extension": ".py",
   "mimetype": "text/x-python",
   "name": "python",
   "nbconvert_exporter": "python",
   "pygments_lexer": "ipython3",
   "version": "3.12.3"
  }
 },
 "nbformat": 4,
 "nbformat_minor": 4
}
