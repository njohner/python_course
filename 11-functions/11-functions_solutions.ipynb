{
 "cells": [
  {
   "cell_type": "markdown",
   "metadata": {},
   "source": [
    "# Exercises 11: Functions"
   ]
  },
  {
   "cell_type": "markdown",
   "metadata": {},
   "source": [
    "With functions, we can start to organise our code in functional units. This allows to make code more readable, easier to maintain and possible to reuse.\n",
    "\n",
    "Typically there will be 2 python cells for a question, use the first one to define your function. The second one is used to test the function and print the results and is sometimes provided."
   ]
  },
  {
   "cell_type": "markdown",
   "metadata": {},
   "source": [
    "## Ex. 11.1\n",
    "We start by defining some simple functions."
   ]
  },
  {
   "cell_type": "markdown",
   "metadata": {},
   "source": [
    "### Ex. 11.1.1\n",
    "#### Ex. 11.1.1 a\n",
    "Write a function `vector_average` with one parameter `data_vector`, that returns the average of `data_vector` (which is a list or an iteratable object). Then test it on `v1` defined below. "
   ]
  },
  {
   "cell_type": "code",
   "execution_count": null,
   "metadata": {},
   "outputs": [],
   "source": [
    "def vector_average(data_vector):\n",
    "    return sum(data_vector) / len(data_vector)"
   ]
  },
  {
   "cell_type": "code",
   "execution_count": null,
   "metadata": {},
   "outputs": [],
   "source": [
    "v1 = [1, 2, 1, 3, 2, 1]\n",
    "average = vector_average(v1)\n",
    "print(f\"v1 has average = {average}\")"
   ]
  },
  {
   "cell_type": "markdown",
   "metadata": {},
   "source": [
    "#### Ex. 11.1.1 b\n",
    "Add a docstring to `vector_average` and test it (call `help` on your function). Then look at `vector_average.__doc__`"
   ]
  },
  {
   "cell_type": "code",
   "execution_count": null,
   "metadata": {},
   "outputs": [],
   "source": [
    "def vector_average(data_vector):\n",
    "    \"\"\"Calculates the average over all elements in data_vector\"\"\"\n",
    "    return sum(data_vector) / len(data_vector)"
   ]
  },
  {
   "cell_type": "code",
   "execution_count": null,
   "metadata": {},
   "outputs": [],
   "source": [
    "help(vector_average)"
   ]
  },
  {
   "cell_type": "code",
   "execution_count": null,
   "metadata": {},
   "outputs": [],
   "source": [
    "vector_average.__doc__"
   ]
  },
  {
   "cell_type": "markdown",
   "metadata": {},
   "source": [
    "### Ex. 11.1.2\n",
    "* Write a function `squared_difference` which takes two parameters `xi` and `yi` and returns the square of their difference $(xi-yi)^2$.\n",
    "* Test your function on a few examples"
   ]
  },
  {
   "cell_type": "code",
   "execution_count": null,
   "metadata": {},
   "outputs": [],
   "source": [
    "def squared_difference(xi, yi):\n",
    "    return (xi - yi) ** 2"
   ]
  },
  {
   "cell_type": "code",
   "execution_count": null,
   "metadata": {},
   "outputs": [],
   "source": [
    "print(\"squared_difference(1, 3):\", squared_difference(1, 3))\n",
    "print(\"squared_difference(2, 2.3):\", squared_difference(2, 2.3))"
   ]
  },
  {
   "cell_type": "markdown",
   "metadata": {},
   "source": [
    "## Ex. 11.2 Scoping\n",
    "A function has of course access to variables of its local namespace, but also of the enclosing and global namespaces. When trying to resolve a variable name, resolution order is local, enclosing, global, built-in namespaces. Therefore, a function defined in this notebook has access to other functions defined earlier in the notebook."
   ]
  },
  {
   "cell_type": "markdown",
   "metadata": {},
   "source": [
    "### Ex. 11.2.1\n",
    "Write a function `standard_deviation` to calculate the standard deviation of a list (i.e. $\\left(\\frac{\\sum_{i=0}^{n-1}(v_i-\\mu)^2}{n-1}\\right)^{0.5}$ where $\\mu$ is the average of the list and $v_i$ are the elements of the list.). The `standard_deviation` function should have one parameter `data_vector` and can make used of the previously defined `vector_aveerage` and `squared_difference` functions. Then test it on v1 (defined above)."
   ]
  },
  {
   "cell_type": "code",
   "execution_count": null,
   "metadata": {},
   "outputs": [],
   "source": [
    "def standard_deviation(data_vector):\n",
    "    \"\"\"Calculates the standard deviation over all elements in data_vector\"\"\"\n",
    "    average = vector_average(data_vector)\n",
    "    total = 0\n",
    "    for el in data_vector:\n",
    "        total += squared_difference(el, average)\n",
    "    return (total / (len(data_vector) - 1)) ** 0.5"
   ]
  },
  {
   "cell_type": "code",
   "execution_count": null,
   "metadata": {},
   "outputs": [],
   "source": [
    "std = standard_deviation(v1)\n",
    "print(\"v1 has sd={}\".format(std))"
   ]
  },
  {
   "cell_type": "markdown",
   "metadata": {},
   "source": [
    "### Ex. 11.2.2\n",
    "We now modify the `standard_deviation` to include a second argument `average` with a default value of `None`.\n",
    "If a value for `average` is passed when calling `standard_deviation`, this is used as the average for the calculation of the standard deviation, otherwise the average is determined as before.\n",
    "\n",
    "Test it with and without passing the `average` parameter."
   ]
  },
  {
   "cell_type": "code",
   "execution_count": null,
   "metadata": {
    "tags": []
   },
   "outputs": [],
   "source": [
    "def standard_deviation(data_vector, average=None):\n",
    "    \"\"\"Calculates the standard deviation over all elements in data_vector\"\"\"\n",
    "    if average is None:\n",
    "        average = vector_average(data_vector)\n",
    "    total = 0\n",
    "    for el in data_vector:\n",
    "        total += squared_difference(el, average)\n",
    "    return (total / (len(data_vector) - 1)) ** 0.5"
   ]
  },
  {
   "cell_type": "code",
   "execution_count": null,
   "metadata": {
    "tags": []
   },
   "outputs": [],
   "source": [
    "print(\"v1 has average={} and sd={}\".format(vector_average(v1), standard_deviation(v1)))\n",
    "m = vector_average(v1)\n",
    "sd = standard_deviation(v1, average = m)\n",
    "print(\"v1 has average={} and sd={}\".format(m, sd))"
   ]
  },
  {
   "cell_type": "markdown",
   "metadata": {},
   "source": [
    "## Ex. 11.3 Modifying mutables in a function\n",
    "### Ex. 11.3.1\n",
    "Now write a function `center` that has one parameter `data_vector`. The function should remove the average of `data_vector` from every element of `data_vector`. Assume `data_vector` is mutable (e.g. it's a list)."
   ]
  },
  {
   "cell_type": "code",
   "execution_count": null,
   "metadata": {},
   "outputs": [],
   "source": [
    "def center(data_vector):\n",
    "    mean = vector_average(data_vector)\n",
    "    for i in range(len(data_vector)):\n",
    "        data_vector[i] -= mean"
   ]
  },
  {
   "cell_type": "code",
   "execution_count": null,
   "metadata": {},
   "outputs": [],
   "source": [
    "v1 = [1, 1, 3, 2, 1]\n",
    "print(\"vector\", v1)\n",
    "center(v1)\n",
    "print(\"vector after centering\", v1)"
   ]
  },
  {
   "cell_type": "markdown",
   "metadata": {},
   "source": [
    "If `center` should also work for non-mutables we would need to return an centered version of the argument"
   ]
  },
  {
   "cell_type": "code",
   "execution_count": null,
   "metadata": {},
   "outputs": [],
   "source": [
    "def center(data_vector):\n",
    "    mean = vector_average(data_vector)\n",
    "    result = []\n",
    "    for el in data_vector:\n",
    "        result.append(el - mean)\n",
    "    return result\n",
    "\n",
    "v1 = (1, 1, 3, 2, 1)\n",
    "print(\"vector\", v1)\n",
    "centered = center(v1)\n",
    "print(\"vector after centering\", v1)\n",
    "print(\"centered\", centered)"
   ]
  },
  {
   "cell_type": "markdown",
   "metadata": {},
   "source": [
    "# Supplementary"
   ]
  },
  {
   "cell_type": "markdown",
   "metadata": {
    "tags": []
   },
   "source": [
    "## Ex. 11.4 Mutables as defaults\n",
    "Default values for function parameters are stored in the function-object when the function is defined. You can find them in the `__defaults__` attribute. Write a function with two parameters, the second one being a list defaulting to an empty list. \n",
    "The function should append the first argument to the list. \n",
    "* Try out the function thouroughly.\n",
    "* Does it behave as expected? \n",
    "* What happens to the default argument?\n",
    "* How would you fix it?"
   ]
  },
  {
   "cell_type": "code",
   "execution_count": null,
   "metadata": {
    "tags": []
   },
   "outputs": [],
   "source": [
    "def append_to_list(element, appendable_list=[]):\n",
    "    appendable_list.append(element)\n",
    "    return appendable_list\n",
    "\n",
    "\n",
    "print(append_to_list.__defaults__)\n",
    "l1 = append_to_list(1)\n",
    "print(\"returned={}, function default={}\".format(l1, append_to_list.__defaults__))\n",
    "l2 = append_to_list(\"some more\")\n",
    "print(\"returned={}, function default={}\".format(l2, append_to_list.__defaults__))"
   ]
  },
  {
   "cell_type": "markdown",
   "metadata": {},
   "source": [
    "To deal with this in python, you simply need to avoid using mutables as default, instead set the default to `None` and then if it is `None`, initialize a new list."
   ]
  },
  {
   "cell_type": "code",
   "execution_count": null,
   "metadata": {
    "tags": []
   },
   "outputs": [],
   "source": [
    "def append_to_list(element, appendable_list = None):\n",
    "    if appendable_list is None:\n",
    "        appendable_list = []\n",
    "    appendable_list.append(element)\n",
    "    return appendable_list\n",
    "\n",
    "print(append_to_list.__defaults__)\n",
    "l1 = append_to_list(1)\n",
    "print(\"returned={}, function default={}\".format(l1, append_to_list.__defaults__))\n",
    "l1 = append_to_list(\"some more\")\n",
    "print(\"returned={}, function default={}\".format(l1, append_to_list.__defaults__))"
   ]
  },
  {
   "cell_type": "markdown",
   "metadata": {
    "tags": []
   },
   "source": [
    "## Ex. 11.5 Line fit\n",
    "In this exercise we will write a very simple function to find the best fit line to a set of points.\n",
    "### Ex. 11.5.1\n",
    "We start by writing a function to compute the mean squared error between two lists, i.e. the sum of the residues: $MSE = \\frac{1}{n}\\sum_{i=1}^{n}(x_i-y_i)^2$\n",
    "- Define the function `mean_squared_error` taking two vectors `vec1` and `vec2` as parameters\n",
    "- Test it on a few examples\n",
    "*HINT:* Remember the `zip` function to iterate over two lists at the same time"
   ]
  },
  {
   "cell_type": "code",
   "execution_count": null,
   "metadata": {},
   "outputs": [],
   "source": [
    "def mean_squared_error(vec1, vec2):\n",
    "    \"\"\"Returns the mean squared error between vec1 and vec2.\n",
    "    \"\"\"\n",
    "    mse = 0\n",
    "    for x, y in zip(vec1, vec2):\n",
    "        mse += squared_difference(x, y)\n",
    "    return mse / len(vec1)"
   ]
  },
  {
   "cell_type": "code",
   "execution_count": null,
   "metadata": {},
   "outputs": [],
   "source": [
    "x = [1, 2, 3]\n",
    "y = [2, 2, 2]\n",
    "print(\"MSE({}, {}) = {}\".format(x, y, mean_squared_error(x, y)))"
   ]
  },
  {
   "cell_type": "markdown",
   "metadata": {},
   "source": [
    "### Ex. 11.5.2\n",
    "#### Ex. 11.5.2a\n",
    "We will now write a very basic optimization method using simple brute force to calculate a best fit line. The `brute_force_line_fit` method should have two parameters `x` and `y`. It should search the best fit parameters `a` and `b` so that the MSE between the prediction $a*x + b$ and $y$ is as small as possible. The function can simply use as search space all integers between -10 and 10 both for $a$ and for $b$. It should return the optimal values for $a$ and $b$ as well as the corresponding MSE."
   ]
  },
  {
   "cell_type": "code",
   "execution_count": null,
   "metadata": {},
   "outputs": [],
   "source": [
    "def brute_force_line_fit(x, y):\n",
    "    \"\"\"Fits a linear model a*x + b and return the best fit parameters\n",
    "    as well as the MSE.\n",
    "    \"\"\"\n",
    "    best_error = None\n",
    "    best_a = None\n",
    "    best_b = None\n",
    "    for a in range(-10, 10):\n",
    "        for b in range(-10, 10):\n",
    "            prediction = [a*xi +b for xi in x]\n",
    "            error = mean_squared_error(y, prediction)\n",
    "            if best_error is None or error < best_error:\n",
    "                best_error = error\n",
    "                best_a = a\n",
    "                best_b = b\n",
    "    return {'a': best_a, 'b': best_b, 'mse': best_error}        "
   ]
  },
  {
   "cell_type": "markdown",
   "metadata": {},
   "source": [
    "#### Ex. 11.5.2b\n",
    "Test the `brute_force_line_fit` function on the follwing $x$ and $y$ data that I have prepared."
   ]
  },
  {
   "cell_type": "code",
   "execution_count": null,
   "metadata": {},
   "outputs": [],
   "source": [
    "x = range(0, 10)\n",
    "a = 2.1\n",
    "b = 3.2\n",
    "y = []\n",
    "for xi in x:\n",
    "    y.append(a*xi +b)"
   ]
  },
  {
   "cell_type": "code",
   "execution_count": null,
   "metadata": {},
   "outputs": [],
   "source": [
    "brute_force_line_fit(x, y)  "
   ]
  },
  {
   "cell_type": "markdown",
   "metadata": {},
   "source": [
    "## Ex. 11.6 `*args` and `**kwargs`\n",
    "We will have a lookat the `*args` and `**kwargs` syntax. There are supplementary slides dealing with this in the course.\n",
    "Here is a quick review of the syntax"
   ]
  },
  {
   "cell_type": "code",
   "execution_count": null,
   "metadata": {},
   "outputs": [],
   "source": [
    "def print_arguments(x, *args, y=2, **kwargs):\n",
    "    \"\"\"prints the passed arguments\"\"\"\n",
    "    print(\"x\", x)\n",
    "    print(\"y\", y)\n",
    "    print(\"args\", args)\n",
    "    print(\"kwargs\", kwargs)\n",
    "\n",
    "print_arguments(1, 2, y=3, z=4)  # x=1, args=(2,), y=3, kwargs={\"z\":4}\n",
    "print_arguments(*[1 ,2], **{'y':3, 'z':4})  # x=1, args=(2,), y=3, kwargs={\"z\":4}"
   ]
  },
  {
   "cell_type": "markdown",
   "metadata": {},
   "source": [
    "Now let's try to understand how the `*` and `**` syntax works.\n",
    "### Ex. 11.6.1\n",
    "We have a list `l1` and we want to print the elements of the list, but not the list itself. We could do `print(l1[0], l1[1], l1[2])` but that is not very practical, especially if we don't know how long the list is. Use the `*` syntax instead. Do you see the difference with simply printing the list (i.e. `print(l1)` )"
   ]
  },
  {
   "cell_type": "code",
   "execution_count": null,
   "metadata": {},
   "outputs": [],
   "source": [
    "l1 = [1, 2, 3, 4, 5]"
   ]
  },
  {
   "cell_type": "code",
   "execution_count": null,
   "metadata": {},
   "outputs": [],
   "source": [
    "print(l1)\n",
    "print(*l1)"
   ]
  },
  {
   "cell_type": "markdown",
   "metadata": {},
   "source": [
    "### Ex. 11.6.2\n",
    "Now write a function `print_args` that takes any number of arguments and prints each one of them (loop through all the arguments and print each one)."
   ]
  },
  {
   "cell_type": "code",
   "execution_count": null,
   "metadata": {},
   "outputs": [],
   "source": [
    "def print_args(*args):\n",
    "    print(args)\n",
    "    for arg in args:\n",
    "        print(arg)"
   ]
  },
  {
   "cell_type": "code",
   "execution_count": null,
   "metadata": {},
   "outputs": [],
   "source": [
    "print_args(1, 2, 3)"
   ]
  },
  {
   "cell_type": "markdown",
   "metadata": {},
   "source": [
    "### Ex. 11.6.3\n",
    "The plotting function from matplotlib is very flexible, as such it takes any number of positional and keyword arguments. Positional arguments are used to define the data to be plotted and keyword arguments for controlling many aspects of the plot.\n",
    "\n",
    "We put our favorite plot options in a dictionary `prop_dict`. Modify the `plt.plot` method call below to pass it all the *keyword:value* pairs defined in `prop_dict` as keyword arguments."
   ]
  },
  {
   "cell_type": "code",
   "execution_count": null,
   "metadata": {},
   "outputs": [],
   "source": [
    "%matplotlib inline\n",
    "import matplotlib.pyplot as plt\n",
    "x = [1, 2, 3, 4, 5]\n",
    "y = [1, 2, 4, 2, 1]\n",
    "prop_dict = {\"linestyle\": \":\", \"color\": \"r\", \"markersize\": 10, \"marker\": \"x\"}\n",
    "plt.figure()\n",
    "plt.plot(x, y, **prop_dict)\n",
    "# should be equivalent to plt.plot(x, y, linestyle = \":\", color: \"r\", markersize=10, marker=\"x\")\n",
    "plt.show()"
   ]
  },
  {
   "cell_type": "markdown",
   "metadata": {},
   "source": [
    "### Ex. 11.6.4\n",
    "Now write a function `print_kwargs` that takes in any number of keyword arguments and prints out each of them in the form `keyword = value`"
   ]
  },
  {
   "cell_type": "code",
   "execution_count": null,
   "metadata": {},
   "outputs": [],
   "source": [
    "def print_kwargs(**kwargs):\n",
    "    print(kwargs)\n",
    "    for k in kwargs:\n",
    "        print(\"{} = {}\".format(k, kwargs[k]))"
   ]
  },
  {
   "cell_type": "code",
   "execution_count": null,
   "metadata": {},
   "outputs": [],
   "source": [
    "print_kwargs(a=2, b=3)"
   ]
  },
  {
   "cell_type": "markdown",
   "metadata": {},
   "source": [
    "## Ex. 11.7 Whetting your appetite\n",
    "Define a function `transform_list` similar to the one in **Ex. 11.3.1** but that applies a provided transformation to every element in the list. Specifically, the function should take 2 arguments, the list that should be transformed and a function that will be applied to every element of the list.\n",
    "* To test your function you would need to define a transformation. For example define a function that adds a specific value to its input. You can then pass that as transformation to `transform_list`.\n",
    "\n",
    "This is not very practical as we would still need to define a specific transformation function to use our `transform_list` function. For example if we want to remove the average from two different vectors, we'd have to define a specific transform that substracts the average for each vector. The solution to this in python is a *lambda* function. We will talk about *lambdas* in an upcoming lecture."
   ]
  },
  {
   "cell_type": "code",
   "execution_count": null,
   "metadata": {},
   "outputs": [],
   "source": [
    "def transform_list(data_vector, transform):\n",
    "    for i in range(len(data_vector)):\n",
    "        if not data_vector[i] is None:\n",
    "            data_vector[i] = transform(data_vector[i]) "
   ]
  },
  {
   "cell_type": "code",
   "execution_count": null,
   "metadata": {},
   "outputs": [],
   "source": [
    "def add_2(a):\n",
    "    return a + 2"
   ]
  },
  {
   "cell_type": "code",
   "execution_count": null,
   "metadata": {},
   "outputs": [],
   "source": [
    "v1 = [1, None, 1, 3, 2, 1]\n",
    "print(\"vector\", v1)\n",
    "transform_list(v1, add_2)\n",
    "print(\"transformed\",v1)"
   ]
  },
  {
   "cell_type": "code",
   "execution_count": null,
   "metadata": {},
   "outputs": [],
   "source": []
  }
 ],
 "metadata": {
  "kernelspec": {
   "display_name": "Python 3 (ipykernel)",
   "language": "python",
   "name": "python3"
  },
  "language_info": {
   "codemirror_mode": {
    "name": "ipython",
    "version": 3
   },
   "file_extension": ".py",
   "mimetype": "text/x-python",
   "name": "python",
   "nbconvert_exporter": "python",
   "pygments_lexer": "ipython3",
   "version": "3.12.3"
  }
 },
 "nbformat": 4,
 "nbformat_minor": 4
}
