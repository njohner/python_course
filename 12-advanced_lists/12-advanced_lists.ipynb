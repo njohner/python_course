{
 "cells": [
  {
   "cell_type": "markdown",
   "metadata": {},
   "source": [
    "# Exercises 12: Advanced list handling\n",
    "In this series of exercises we look at list-comprehensions, `lambda` functions and the `map` and `filter` functions."
   ]
  },
  {
   "cell_type": "markdown",
   "metadata": {},
   "source": [
    "## Exercise 12.1:\n",
    "Let's first define a few `lambda` functions. Rewrite the functions below as lambdas and test them (assign the lambda function to a variable so you can then apply it)."
   ]
  },
  {
   "cell_type": "markdown",
   "metadata": {},
   "source": [
    "### Exercise 12.1.1"
   ]
  },
  {
   "cell_type": "code",
   "execution_count": null,
   "metadata": {},
   "outputs": [],
   "source": [
    "def positive(x):\n",
    "    return x > 0\n",
    "\n",
    "x = 1\n",
    "print(\"positive({})={}\".format(x, positive(x)))"
   ]
  },
  {
   "cell_type": "code",
   "execution_count": null,
   "metadata": {},
   "outputs": [],
   "source": []
  },
  {
   "cell_type": "markdown",
   "metadata": {},
   "source": [
    "### Exercise 12.1.2"
   ]
  },
  {
   "cell_type": "code",
   "execution_count": null,
   "metadata": {},
   "outputs": [],
   "source": [
    "def product(x, y):\n",
    "    return x * y\n",
    "\n",
    "x=2\n",
    "y=3\n",
    "print(\"product({},{})={}\".format(x, y, product(x, y)))"
   ]
  },
  {
   "cell_type": "code",
   "execution_count": null,
   "metadata": {},
   "outputs": [],
   "source": []
  },
  {
   "cell_type": "markdown",
   "metadata": {},
   "source": [
    "### Exercise 12.1.3"
   ]
  },
  {
   "cell_type": "code",
   "execution_count": null,
   "metadata": {},
   "outputs": [],
   "source": [
    "def average(x):\n",
    "    return sum(x)/len(x)\n",
    "\n",
    "data = [1, 2, 3]\n",
    "print(\"average({})={}\".format(data, average(data)))"
   ]
  },
  {
   "cell_type": "code",
   "execution_count": null,
   "metadata": {},
   "outputs": [],
   "source": []
  },
  {
   "cell_type": "markdown",
   "metadata": {},
   "source": [
    "## Exercise 12.2:\n",
    "Rewrite the following loops using:\n",
    "* a combination of `map`, `filter` and `lambdas` as necessary\n",
    "* list-comprehensions\n",
    "\n",
    "For each case there are 2 empty cells to test both apporaches."
   ]
  },
  {
   "cell_type": "markdown",
   "metadata": {},
   "source": [
    "### Exercise 12.2.1\n",
    "Substract the average from every element of the data. The `average` is given and does not have to be calculated inside the list comprehension or map..."
   ]
  },
  {
   "cell_type": "code",
   "execution_count": null,
   "metadata": {},
   "outputs": [],
   "source": [
    "data = [1, 2, 3, 4, 5]\n",
    "average = sum(data)/len(data)\n",
    "transformed = []\n",
    "for el in data:\n",
    "    transformed.append(el - average)\n",
    "print(\"data=\", data)\n",
    "print(\"transformed=\", transformed)"
   ]
  },
  {
   "cell_type": "code",
   "execution_count": null,
   "metadata": {},
   "outputs": [],
   "source": []
  },
  {
   "cell_type": "code",
   "execution_count": null,
   "metadata": {},
   "outputs": [],
   "source": []
  },
  {
   "cell_type": "markdown",
   "metadata": {},
   "source": [
    "### Exercise 12.2.2\n",
    "Remove all negative elements from the data"
   ]
  },
  {
   "cell_type": "code",
   "execution_count": null,
   "metadata": {},
   "outputs": [],
   "source": [
    "data = [-1, 2, -3, 4, -5]\n",
    "transformed = []\n",
    "for el in data:\n",
    "    if el >= 0:\n",
    "        transformed.append(el)\n",
    "print(\"data=\", data)\n",
    "print(\"transformed=\", transformed)"
   ]
  },
  {
   "cell_type": "code",
   "execution_count": null,
   "metadata": {},
   "outputs": [],
   "source": []
  },
  {
   "cell_type": "code",
   "execution_count": null,
   "metadata": {},
   "outputs": [],
   "source": []
  },
  {
   "cell_type": "markdown",
   "metadata": {},
   "source": [
    "### Exercise 12.2.3\n",
    "Take the square of every element that is not `None` and substract `2`."
   ]
  },
  {
   "cell_type": "code",
   "execution_count": null,
   "metadata": {},
   "outputs": [],
   "source": [
    "data = [1, 2, 3, None, 5, None, 7]\n",
    "transformed = []\n",
    "for el in data:\n",
    "    if el != None:\n",
    "        transformed.append(el * el - 2)\n",
    "print(\"data=\", data)\n",
    "print(\"transformed=\", transformed)"
   ]
  },
  {
   "cell_type": "code",
   "execution_count": null,
   "metadata": {},
   "outputs": [],
   "source": []
  },
  {
   "cell_type": "code",
   "execution_count": null,
   "metadata": {},
   "outputs": [],
   "source": []
  },
  {
   "cell_type": "markdown",
   "metadata": {},
   "source": [
    "# Supplementary Exercises\n",
    "Starting from here, you will need to have a look at the supplementary slides and/or the examples from the reminder notebook.\n",
    "\n",
    "\n",
    "### Exercise 12.2.4\n",
    "We go on with **exercise 12**...\n",
    "\n",
    "Now we have two data columns and we want to sum them element-wise to generate a new feature. `map` can take several lists as arguments, it will iterate over the `zip` of the lists."
   ]
  },
  {
   "cell_type": "code",
   "execution_count": null,
   "metadata": {},
   "outputs": [],
   "source": [
    "col1 = [1, 2, 0, 3, -1]\n",
    "col2 = [0, 0.5, -0.2, 0.3, -0.5]\n",
    "new_feature = []\n",
    "for el1, el2 in zip(col1, col2):\n",
    "    new_feature.append(el1 + el2)\n",
    "print(\"new_feature=\", new_feature)"
   ]
  },
  {
   "cell_type": "code",
   "execution_count": null,
   "metadata": {},
   "outputs": [],
   "source": []
  },
  {
   "cell_type": "code",
   "execution_count": null,
   "metadata": {},
   "outputs": [],
   "source": []
  },
  {
   "cell_type": "markdown",
   "metadata": {},
   "source": [
    "### Exercise 12.2.5\n",
    "Now we have 2-dimensional data. We want to make a new object containing only the second column of our data"
   ]
  },
  {
   "cell_type": "code",
   "execution_count": null,
   "metadata": {},
   "outputs": [],
   "source": [
    "data = [(1, 7), (2, 5), (0, 8), (3, 6)]\n",
    "col = []\n",
    "for row in data:\n",
    "    col.append(row[1])\n",
    "print(\"col =\", col)"
   ]
  },
  {
   "cell_type": "code",
   "execution_count": null,
   "metadata": {},
   "outputs": [],
   "source": []
  },
  {
   "cell_type": "code",
   "execution_count": null,
   "metadata": {},
   "outputs": [],
   "source": []
  },
  {
   "cell_type": "markdown",
   "metadata": {},
   "source": [
    "## Exercise 12.3\n",
    "the `sorted` function and the `sort` method can also take a function as argument, using the keyword `key` (`sorted(list, key = function)`). The function is applied on each element and the result is used for sorting . A common usecase is to sort a list of lists (or tuples) according to a given element in the tuple. Sort the following list according to the second element of the tuples."
   ]
  },
  {
   "cell_type": "code",
   "execution_count": null,
   "metadata": {},
   "outputs": [],
   "source": [
    "data = [(1, 2), (2, 0), (0, 3), (3, 1)]"
   ]
  },
  {
   "cell_type": "code",
   "execution_count": null,
   "metadata": {},
   "outputs": [],
   "source": []
  },
  {
   "cell_type": "markdown",
   "metadata": {},
   "source": [
    "## Exercise 12.4\n",
    "Using a list-comprehension, generate all possible combinations (could for example be a 2d-grid for approximating a function of 2 variables) of elements of `x` and `y`"
   ]
  },
  {
   "cell_type": "code",
   "execution_count": null,
   "metadata": {},
   "outputs": [],
   "source": [
    "x = list(range(0,5))\n",
    "y = list(range(2))\n",
    "grid = []\n",
    "for xi in x:\n",
    "    for yi in y:\n",
    "        grid.append((xi, yi))\n",
    "        \n",
    "print(\"grid =\", grid)"
   ]
  },
  {
   "cell_type": "code",
   "execution_count": null,
   "metadata": {},
   "outputs": [],
   "source": []
  },
  {
   "cell_type": "markdown",
   "metadata": {},
   "source": [
    "## Exercise 12.5\n",
    "Back to our soccer team exercise. But this time we solve it using list comprehensions.\n",
    "\n",
    "We have a pool of teams from different countries. Every team should play every other team once. Generate the list of matches (every match is a list containing the names of the two teams)."
   ]
  },
  {
   "cell_type": "code",
   "execution_count": null,
   "metadata": {},
   "outputs": [],
   "source": [
    "teams = [\"France\", \"Germany\", \"Switzerland\", \"Spain\"]"
   ]
  },
  {
   "cell_type": "markdown",
   "metadata": {},
   "source": [
    "## Exercise 12.6\n",
    "The following transformation normalizes the data by substracting its average\n",
    "* Of course lambdas can also work on lists. You can rewrite the following transformation in a single line using a lambda and `map` and a list comprehension (though this will be inefficient). \n",
    "* You can also do this in a single line using a nested comprehension\n",
    "* Now do it in two lines, but in a more efficient way:\n",
    "    * using `map` and `lambda` and a list comprehension\n",
    "    * using list comprehensions only"
   ]
  },
  {
   "cell_type": "code",
   "execution_count": null,
   "metadata": {},
   "outputs": [],
   "source": [
    "def normalize(row):\n",
    "    average = sum(row)/len(row)\n",
    "    return [el - average for el in row]\n",
    "\n",
    "data = [[1,2,3], [4,5,6]]\n",
    "normalized = []\n",
    "for el in data:\n",
    "    normalized.append(normalize(el))\n",
    "print(\"normalized =\", normalized)"
   ]
  },
  {
   "cell_type": "code",
   "execution_count": null,
   "metadata": {},
   "outputs": [],
   "source": []
  }
 ],
 "metadata": {
  "kernelspec": {
   "display_name": "Python 3 (ipykernel)",
   "language": "python",
   "name": "python3"
  },
  "language_info": {
   "codemirror_mode": {
    "name": "ipython",
    "version": 3
   },
   "file_extension": ".py",
   "mimetype": "text/x-python",
   "name": "python",
   "nbconvert_exporter": "python",
   "pygments_lexer": "ipython3",
   "version": "3.12.3"
  }
 },
 "nbformat": 4,
 "nbformat_minor": 4
}
